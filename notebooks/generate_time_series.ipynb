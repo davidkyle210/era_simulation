{
 "cells": [
  {
   "cell_type": "code",
   "execution_count": 89,
   "id": "e0312ad5",
   "metadata": {},
   "outputs": [],
   "source": [
    "from sklearn import linear_model\n",
    "from sklearn.preprocessing import PolynomialFeatures\n",
    "import pandas as pd\n",
    "import numpy as np\n",
    "import matplotlib.pyplot as plt"
   ]
  },
  {
   "cell_type": "markdown",
   "id": "ef80220f",
   "metadata": {},
   "source": [
    "## Define Functions"
   ]
  },
  {
   "cell_type": "code",
   "execution_count": 90,
   "id": "7290ae64",
   "metadata": {},
   "outputs": [],
   "source": [
    "def rotate_clockwise(vx, vy, radians):\n",
    "    sin = np.sin(radians)\n",
    "    cos = np.cos(radians)\n",
    "    new_x = vx*cos + vy*sin\n",
    "    new_y = -vx*sin + vy*cos\n",
    "    return np.vstack([new_x, new_y]).T"
   ]
  },
  {
   "cell_type": "code",
   "execution_count": 91,
   "id": "6b22e833",
   "metadata": {},
   "outputs": [],
   "source": [
    "def fourier(values, period=None, degree=3):\n",
    "    r = values\n",
    "    if period is not None:\n",
    "        r = values/period * 2*np.pi\n",
    "    args = pd.concat([(idx+1)*r for idx in range(degree)], axis=1)\n",
    "    cols = ['{}sin'.format(idx+1) for idx in range(degree)] + ['{}cos'.format(idx+1) for idx in range(degree)]\n",
    "    X_df = pd.concat([np.sin(args), np.cos(args)], axis=1)\n",
    "    X_df.columns = cols\n",
    "    return X_df.reindex(sorted(X_df.columns), axis=1)"
   ]
  },
  {
   "cell_type": "code",
   "execution_count": null,
   "id": "912203a8",
   "metadata": {},
   "outputs": [],
   "source": []
  },
  {
   "cell_type": "code",
   "execution_count": 92,
   "id": "d682abab",
   "metadata": {},
   "outputs": [],
   "source": [
    "def interaction(X, Y):\n",
    "    Z = np.zeros((X.shape[0], X.shape[1]*Y.shape[1]))\n",
    "    for idx in range(X.shape[1]):\n",
    "        i = idx*Y.shape[1]\n",
    "        for jdx in range(Y.shape[1]):\n",
    "            Z[:,i+jdx] = X[:,idx]*Y[:,jdx]\n",
    "    return Z"
   ]
  },
  {
   "cell_type": "markdown",
   "id": "2e083c52",
   "metadata": {},
   "source": [
    "## Read in Data"
   ]
  },
  {
   "cell_type": "code",
   "execution_count": 93,
   "id": "5ea13e7d",
   "metadata": {},
   "outputs": [
    {
     "data": {
      "text/html": [
       "<div>\n",
       "<style scoped>\n",
       "    .dataframe tbody tr th:only-of-type {\n",
       "        vertical-align: middle;\n",
       "    }\n",
       "\n",
       "    .dataframe tbody tr th {\n",
       "        vertical-align: top;\n",
       "    }\n",
       "\n",
       "    .dataframe thead th {\n",
       "        text-align: right;\n",
       "    }\n",
       "</style>\n",
       "<table border=\"1\" class=\"dataframe\">\n",
       "  <thead>\n",
       "    <tr style=\"text-align: right;\">\n",
       "      <th></th>\n",
       "      <th>Wind_Spd</th>\n",
       "      <th>Wind_Dir</th>\n",
       "    </tr>\n",
       "    <tr>\n",
       "      <th>Date_Time</th>\n",
       "      <th></th>\n",
       "      <th></th>\n",
       "    </tr>\n",
       "  </thead>\n",
       "  <tbody>\n",
       "    <tr>\n",
       "      <th>2000-01-01 07:00:00</th>\n",
       "      <td>9.94</td>\n",
       "      <td>175.0</td>\n",
       "    </tr>\n",
       "    <tr>\n",
       "      <th>2000-01-01 08:00:00</th>\n",
       "      <td>9.52</td>\n",
       "      <td>181.0</td>\n",
       "    </tr>\n",
       "    <tr>\n",
       "      <th>2000-01-01 09:00:00</th>\n",
       "      <td>9.31</td>\n",
       "      <td>188.0</td>\n",
       "    </tr>\n",
       "    <tr>\n",
       "      <th>2000-01-01 10:00:00</th>\n",
       "      <td>9.33</td>\n",
       "      <td>197.0</td>\n",
       "    </tr>\n",
       "    <tr>\n",
       "      <th>2000-01-01 11:00:00</th>\n",
       "      <td>9.71</td>\n",
       "      <td>210.0</td>\n",
       "    </tr>\n",
       "  </tbody>\n",
       "</table>\n",
       "</div>"
      ],
      "text/plain": [
       "                     Wind_Spd  Wind_Dir\n",
       "Date_Time                              \n",
       "2000-01-01 07:00:00      9.94     175.0\n",
       "2000-01-01 08:00:00      9.52     181.0\n",
       "2000-01-01 09:00:00      9.31     188.0\n",
       "2000-01-01 10:00:00      9.33     197.0\n",
       "2000-01-01 11:00:00      9.71     210.0"
      ]
     },
     "execution_count": 93,
     "metadata": {},
     "output_type": "execute_result"
    }
   ],
   "source": [
    "df = pd.read_csv(r'ERA5_fc_065393_20000101-20190601_no_metadata.txt', index_col='Date_Time', sep='\\t')[['Wind_Spd', 'Wind_Dir']]\n",
    "df.index = pd.to_datetime(df.index)\n",
    "df.head()"
   ]
  },
  {
   "cell_type": "code",
   "execution_count": 94,
   "id": "a5727a57",
   "metadata": {},
   "outputs": [
    {
     "data": {
      "text/html": [
       "<div>\n",
       "<style scoped>\n",
       "    .dataframe tbody tr th:only-of-type {\n",
       "        vertical-align: middle;\n",
       "    }\n",
       "\n",
       "    .dataframe tbody tr th {\n",
       "        vertical-align: top;\n",
       "    }\n",
       "\n",
       "    .dataframe thead th {\n",
       "        text-align: right;\n",
       "    }\n",
       "</style>\n",
       "<table border=\"1\" class=\"dataframe\">\n",
       "  <thead>\n",
       "    <tr style=\"text-align: right;\">\n",
       "      <th></th>\n",
       "      <th>Wind_Spd</th>\n",
       "      <th>Wind_Dir</th>\n",
       "      <th>east</th>\n",
       "      <th>north</th>\n",
       "    </tr>\n",
       "    <tr>\n",
       "      <th>Date_Time</th>\n",
       "      <th></th>\n",
       "      <th></th>\n",
       "      <th></th>\n",
       "      <th></th>\n",
       "    </tr>\n",
       "  </thead>\n",
       "  <tbody>\n",
       "    <tr>\n",
       "      <th>2000-01-01 07:00:00</th>\n",
       "      <td>9.94</td>\n",
       "      <td>175.0</td>\n",
       "      <td>0.866328</td>\n",
       "      <td>-9.902175</td>\n",
       "    </tr>\n",
       "    <tr>\n",
       "      <th>2000-01-01 08:00:00</th>\n",
       "      <td>9.52</td>\n",
       "      <td>181.0</td>\n",
       "      <td>-0.166147</td>\n",
       "      <td>-9.518550</td>\n",
       "    </tr>\n",
       "    <tr>\n",
       "      <th>2000-01-01 09:00:00</th>\n",
       "      <td>9.31</td>\n",
       "      <td>188.0</td>\n",
       "      <td>-1.295702</td>\n",
       "      <td>-9.219396</td>\n",
       "    </tr>\n",
       "    <tr>\n",
       "      <th>2000-01-01 10:00:00</th>\n",
       "      <td>9.33</td>\n",
       "      <td>197.0</td>\n",
       "      <td>-2.727828</td>\n",
       "      <td>-8.922323</td>\n",
       "    </tr>\n",
       "    <tr>\n",
       "      <th>2000-01-01 11:00:00</th>\n",
       "      <td>9.71</td>\n",
       "      <td>210.0</td>\n",
       "      <td>-4.855000</td>\n",
       "      <td>-8.409107</td>\n",
       "    </tr>\n",
       "  </tbody>\n",
       "</table>\n",
       "</div>"
      ],
      "text/plain": [
       "                     Wind_Spd  Wind_Dir      east     north\n",
       "Date_Time                                                  \n",
       "2000-01-01 07:00:00      9.94     175.0  0.866328 -9.902175\n",
       "2000-01-01 08:00:00      9.52     181.0 -0.166147 -9.518550\n",
       "2000-01-01 09:00:00      9.31     188.0 -1.295702 -9.219396\n",
       "2000-01-01 10:00:00      9.33     197.0 -2.727828 -8.922323\n",
       "2000-01-01 11:00:00      9.71     210.0 -4.855000 -8.409107"
      ]
     },
     "execution_count": 94,
     "metadata": {},
     "output_type": "execute_result"
    }
   ],
   "source": [
    "dir_radians = df.Wind_Dir/180*np.pi\n",
    "df.loc[:, 'east'] = np.sin(dir_radians)*df['Wind_Spd']\n",
    "df.loc[:, 'north'] = np.cos(dir_radians)*df['Wind_Spd']\n",
    "df.head()"
   ]
  },
  {
   "cell_type": "markdown",
   "id": "b0befb87",
   "metadata": {},
   "source": [
    "## Fit Mu"
   ]
  },
  {
   "cell_type": "code",
   "execution_count": 181,
   "id": "5e4346e6",
   "metadata": {},
   "outputs": [],
   "source": [
    "julian_values = pd.Series(data=df.index.to_julian_date(), index=df.index)\n",
    "diurnal_fourier = fourier(julian_values, 1, degree=6).values\n",
    "seasonal_fourier = fourier(julian_values, 365.25, degree=6).values\n",
    "T6 = np.hstack([diurnal_fourier, seasonal_fourier, interaction(diurnal_fourier, seasonal_fourier)])\n",
    "T5 = np.hstack([diurnal_fourier[:,0:10], seasonal_fourier[:,0:10], interaction(diurnal_fourier[:,0:10], seasonal_fourier[:,0:10])])\n",
    "T4 = np.hstack([diurnal_fourier[:,0:8], seasonal_fourier[:,0:8], interaction(diurnal_fourier[:,0:8], seasonal_fourier[:,0:8])])\n",
    "T3 = np.hstack([diurnal_fourier[:,0:6], seasonal_fourier[:,0:6], interaction(diurnal_fourier[:,0:6], seasonal_fourier[:,0:6])])\n",
    "T2 = np.hstack([diurnal_fourier[:,0:4], seasonal_fourier[:,0:4], interaction(diurnal_fourier[:,0:4], seasonal_fourier[:,0:4])])"
   ]
  },
  {
   "cell_type": "code",
   "execution_count": 182,
   "id": "b3fdbca1",
   "metadata": {},
   "outputs": [
    {
     "data": {
      "text/html": [
       "<style>#sk-container-id-14 {color: black;background-color: white;}#sk-container-id-14 pre{padding: 0;}#sk-container-id-14 div.sk-toggleable {background-color: white;}#sk-container-id-14 label.sk-toggleable__label {cursor: pointer;display: block;width: 100%;margin-bottom: 0;padding: 0.3em;box-sizing: border-box;text-align: center;}#sk-container-id-14 label.sk-toggleable__label-arrow:before {content: \"▸\";float: left;margin-right: 0.25em;color: #696969;}#sk-container-id-14 label.sk-toggleable__label-arrow:hover:before {color: black;}#sk-container-id-14 div.sk-estimator:hover label.sk-toggleable__label-arrow:before {color: black;}#sk-container-id-14 div.sk-toggleable__content {max-height: 0;max-width: 0;overflow: hidden;text-align: left;background-color: #f0f8ff;}#sk-container-id-14 div.sk-toggleable__content pre {margin: 0.2em;color: black;border-radius: 0.25em;background-color: #f0f8ff;}#sk-container-id-14 input.sk-toggleable__control:checked~div.sk-toggleable__content {max-height: 200px;max-width: 100%;overflow: auto;}#sk-container-id-14 input.sk-toggleable__control:checked~label.sk-toggleable__label-arrow:before {content: \"▾\";}#sk-container-id-14 div.sk-estimator input.sk-toggleable__control:checked~label.sk-toggleable__label {background-color: #d4ebff;}#sk-container-id-14 div.sk-label input.sk-toggleable__control:checked~label.sk-toggleable__label {background-color: #d4ebff;}#sk-container-id-14 input.sk-hidden--visually {border: 0;clip: rect(1px 1px 1px 1px);clip: rect(1px, 1px, 1px, 1px);height: 1px;margin: -1px;overflow: hidden;padding: 0;position: absolute;width: 1px;}#sk-container-id-14 div.sk-estimator {font-family: monospace;background-color: #f0f8ff;border: 1px dotted black;border-radius: 0.25em;box-sizing: border-box;margin-bottom: 0.5em;}#sk-container-id-14 div.sk-estimator:hover {background-color: #d4ebff;}#sk-container-id-14 div.sk-parallel-item::after {content: \"\";width: 100%;border-bottom: 1px solid gray;flex-grow: 1;}#sk-container-id-14 div.sk-label:hover label.sk-toggleable__label {background-color: #d4ebff;}#sk-container-id-14 div.sk-serial::before {content: \"\";position: absolute;border-left: 1px solid gray;box-sizing: border-box;top: 0;bottom: 0;left: 50%;z-index: 0;}#sk-container-id-14 div.sk-serial {display: flex;flex-direction: column;align-items: center;background-color: white;padding-right: 0.2em;padding-left: 0.2em;position: relative;}#sk-container-id-14 div.sk-item {position: relative;z-index: 1;}#sk-container-id-14 div.sk-parallel {display: flex;align-items: stretch;justify-content: center;background-color: white;position: relative;}#sk-container-id-14 div.sk-item::before, #sk-container-id-14 div.sk-parallel-item::before {content: \"\";position: absolute;border-left: 1px solid gray;box-sizing: border-box;top: 0;bottom: 0;left: 50%;z-index: -1;}#sk-container-id-14 div.sk-parallel-item {display: flex;flex-direction: column;z-index: 1;position: relative;background-color: white;}#sk-container-id-14 div.sk-parallel-item:first-child::after {align-self: flex-end;width: 50%;}#sk-container-id-14 div.sk-parallel-item:last-child::after {align-self: flex-start;width: 50%;}#sk-container-id-14 div.sk-parallel-item:only-child::after {width: 0;}#sk-container-id-14 div.sk-dashed-wrapped {border: 1px dashed gray;margin: 0 0.4em 0.5em 0.4em;box-sizing: border-box;padding-bottom: 0.4em;background-color: white;}#sk-container-id-14 div.sk-label label {font-family: monospace;font-weight: bold;display: inline-block;line-height: 1.2em;}#sk-container-id-14 div.sk-label-container {text-align: center;}#sk-container-id-14 div.sk-container {/* jupyter's `normalize.less` sets `[hidden] { display: none; }` but bootstrap.min.css set `[hidden] { display: none !important; }` so we also need the `!important` here to be able to override the default hidden behavior on the sphinx rendered scikit-learn.org. See: https://github.com/scikit-learn/scikit-learn/issues/21755 */display: inline-block !important;position: relative;}#sk-container-id-14 div.sk-text-repr-fallback {display: none;}</style><div id=\"sk-container-id-14\" class=\"sk-top-container\"><div class=\"sk-text-repr-fallback\"><pre>Ridge(alpha=100)</pre><b>In a Jupyter environment, please rerun this cell to show the HTML representation or trust the notebook. <br />On GitHub, the HTML representation is unable to render, please try loading this page with nbviewer.org.</b></div><div class=\"sk-container\" hidden><div class=\"sk-item\"><div class=\"sk-estimator sk-toggleable\"><input class=\"sk-toggleable__control sk-hidden--visually\" id=\"sk-estimator-id-14\" type=\"checkbox\" checked><label for=\"sk-estimator-id-14\" class=\"sk-toggleable__label sk-toggleable__label-arrow\">Ridge</label><div class=\"sk-toggleable__content\"><pre>Ridge(alpha=100)</pre></div></div></div></div></div>"
      ],
      "text/plain": [
       "Ridge(alpha=100)"
      ]
     },
     "execution_count": 182,
     "metadata": {},
     "output_type": "execute_result"
    }
   ],
   "source": [
    "y = df[['east', 'north']].values \n",
    "X_mu = T6\n",
    "reg_mu = linear_model.Ridge(alpha=100, fit_intercept=True)\n",
    "reg_mu.fit(X_mu, y)"
   ]
  },
  {
   "cell_type": "code",
   "execution_count": 183,
   "id": "b6048692",
   "metadata": {},
   "outputs": [
    {
     "data": {
      "text/plain": [
       "(170184, 168)"
      ]
     },
     "execution_count": 183,
     "metadata": {},
     "output_type": "execute_result"
    }
   ],
   "source": [
    "X_mu.shape"
   ]
  },
  {
   "cell_type": "code",
   "execution_count": 184,
   "id": "479cf829",
   "metadata": {},
   "outputs": [
    {
     "data": {
      "text/html": [
       "<div>\n",
       "<style scoped>\n",
       "    .dataframe tbody tr th:only-of-type {\n",
       "        vertical-align: middle;\n",
       "    }\n",
       "\n",
       "    .dataframe tbody tr th {\n",
       "        vertical-align: top;\n",
       "    }\n",
       "\n",
       "    .dataframe thead th {\n",
       "        text-align: right;\n",
       "    }\n",
       "</style>\n",
       "<table border=\"1\" class=\"dataframe\">\n",
       "  <thead>\n",
       "    <tr style=\"text-align: right;\">\n",
       "      <th></th>\n",
       "      <th>Wind_Spd</th>\n",
       "      <th>Wind_Dir</th>\n",
       "      <th>east</th>\n",
       "      <th>north</th>\n",
       "      <th>east_mu</th>\n",
       "      <th>north_mu</th>\n",
       "      <th>east_resid</th>\n",
       "      <th>north_resid</th>\n",
       "      <th>east_resid_prev</th>\n",
       "      <th>north_resid_prev</th>\n",
       "    </tr>\n",
       "    <tr>\n",
       "      <th>Date_Time</th>\n",
       "      <th></th>\n",
       "      <th></th>\n",
       "      <th></th>\n",
       "      <th></th>\n",
       "      <th></th>\n",
       "      <th></th>\n",
       "      <th></th>\n",
       "      <th></th>\n",
       "      <th></th>\n",
       "      <th></th>\n",
       "    </tr>\n",
       "  </thead>\n",
       "  <tbody>\n",
       "    <tr>\n",
       "      <th>2000-01-01 07:00:00</th>\n",
       "      <td>9.94</td>\n",
       "      <td>175.0</td>\n",
       "      <td>0.866328</td>\n",
       "      <td>-9.902175</td>\n",
       "      <td>-4.533230</td>\n",
       "      <td>-3.313729</td>\n",
       "      <td>5.399558</td>\n",
       "      <td>-6.588446</td>\n",
       "      <td>NaN</td>\n",
       "      <td>NaN</td>\n",
       "    </tr>\n",
       "    <tr>\n",
       "      <th>2000-01-01 08:00:00</th>\n",
       "      <td>9.52</td>\n",
       "      <td>181.0</td>\n",
       "      <td>-0.166147</td>\n",
       "      <td>-9.518550</td>\n",
       "      <td>-4.590891</td>\n",
       "      <td>-3.340740</td>\n",
       "      <td>4.424744</td>\n",
       "      <td>-6.177810</td>\n",
       "      <td>5.399558</td>\n",
       "      <td>-6.588446</td>\n",
       "    </tr>\n",
       "    <tr>\n",
       "      <th>2000-01-01 09:00:00</th>\n",
       "      <td>9.31</td>\n",
       "      <td>188.0</td>\n",
       "      <td>-1.295702</td>\n",
       "      <td>-9.219396</td>\n",
       "      <td>-4.567466</td>\n",
       "      <td>-3.371489</td>\n",
       "      <td>3.271765</td>\n",
       "      <td>-5.847907</td>\n",
       "      <td>4.424744</td>\n",
       "      <td>-6.177810</td>\n",
       "    </tr>\n",
       "    <tr>\n",
       "      <th>2000-01-01 10:00:00</th>\n",
       "      <td>9.33</td>\n",
       "      <td>197.0</td>\n",
       "      <td>-2.727828</td>\n",
       "      <td>-8.922323</td>\n",
       "      <td>-4.506369</td>\n",
       "      <td>-3.410048</td>\n",
       "      <td>1.778541</td>\n",
       "      <td>-5.512275</td>\n",
       "      <td>3.271765</td>\n",
       "      <td>-5.847907</td>\n",
       "    </tr>\n",
       "    <tr>\n",
       "      <th>2000-01-01 11:00:00</th>\n",
       "      <td>9.71</td>\n",
       "      <td>210.0</td>\n",
       "      <td>-4.855000</td>\n",
       "      <td>-8.409107</td>\n",
       "      <td>-4.487970</td>\n",
       "      <td>-3.436896</td>\n",
       "      <td>-0.367030</td>\n",
       "      <td>-4.972210</td>\n",
       "      <td>1.778541</td>\n",
       "      <td>-5.512275</td>\n",
       "    </tr>\n",
       "  </tbody>\n",
       "</table>\n",
       "</div>"
      ],
      "text/plain": [
       "                     Wind_Spd  Wind_Dir      east     north   east_mu  \\\n",
       "Date_Time                                                               \n",
       "2000-01-01 07:00:00      9.94     175.0  0.866328 -9.902175 -4.533230   \n",
       "2000-01-01 08:00:00      9.52     181.0 -0.166147 -9.518550 -4.590891   \n",
       "2000-01-01 09:00:00      9.31     188.0 -1.295702 -9.219396 -4.567466   \n",
       "2000-01-01 10:00:00      9.33     197.0 -2.727828 -8.922323 -4.506369   \n",
       "2000-01-01 11:00:00      9.71     210.0 -4.855000 -8.409107 -4.487970   \n",
       "\n",
       "                     north_mu  east_resid  north_resid  east_resid_prev  \\\n",
       "Date_Time                                                                 \n",
       "2000-01-01 07:00:00 -3.313729    5.399558    -6.588446              NaN   \n",
       "2000-01-01 08:00:00 -3.340740    4.424744    -6.177810         5.399558   \n",
       "2000-01-01 09:00:00 -3.371489    3.271765    -5.847907         4.424744   \n",
       "2000-01-01 10:00:00 -3.410048    1.778541    -5.512275         3.271765   \n",
       "2000-01-01 11:00:00 -3.436896   -0.367030    -4.972210         1.778541   \n",
       "\n",
       "                     north_resid_prev  \n",
       "Date_Time                              \n",
       "2000-01-01 07:00:00               NaN  \n",
       "2000-01-01 08:00:00         -6.588446  \n",
       "2000-01-01 09:00:00         -6.177810  \n",
       "2000-01-01 10:00:00         -5.847907  \n",
       "2000-01-01 11:00:00         -5.512275  "
      ]
     },
     "execution_count": 184,
     "metadata": {},
     "output_type": "execute_result"
    }
   ],
   "source": [
    "# predict mu\n",
    "df[['east_mu', 'north_mu']] = reg_mu.predict(T6)\n",
    "df[['east_resid', 'north_resid']] = df[['east', 'north']].values - df[['east_mu', 'north_mu']].values\n",
    "df.head()"
   ]
  },
  {
   "cell_type": "code",
   "execution_count": 185,
   "id": "f8841076",
   "metadata": {},
   "outputs": [
    {
     "data": {
      "text/plain": [
       "<AxesSubplot:xlabel='Date_Time'>"
      ]
     },
     "execution_count": 185,
     "metadata": {},
     "output_type": "execute_result"
    },
    {
     "data": {
      "image/png": "[encoded data removed]",
      "text/plain": [
       "<Figure size 432x288 with 1 Axes>"
      ]
     },
     "metadata": {
      "needs_background": "light"
     },
     "output_type": "display_data"
    }
   ],
   "source": [
    "np.sqrt(df[['east', 'north']].groupby(df.index.month).mean()**2).sum(axis=1).plot()"
   ]
  },
  {
   "cell_type": "code",
   "execution_count": 186,
   "id": "d6267566",
   "metadata": {},
   "outputs": [
    {
     "data": {
      "text/plain": [
       "<AxesSubplot:xlabel='Date_Time'>"
      ]
     },
     "execution_count": 186,
     "metadata": {},
     "output_type": "execute_result"
    },
    {
     "data": {
      "image/png": "[encoded data removed]",
      "text/plain": [
       "<Figure size 432x288 with 1 Axes>"
      ]
     },
     "metadata": {
      "needs_background": "light"
     },
     "output_type": "display_data"
    }
   ],
   "source": [
    "np.sqrt(df[['east_mu', 'north_mu']].groupby(df.index.month).mean()**2).sum(axis=1).plot()"
   ]
  },
  {
   "cell_type": "code",
   "execution_count": 187,
   "id": "0b5a88d2",
   "metadata": {},
   "outputs": [
    {
     "data": {
      "text/plain": [
       "<AxesSubplot:xlabel='Date_Time'>"
      ]
     },
     "execution_count": 187,
     "metadata": {},
     "output_type": "execute_result"
    },
    {
     "data": {
      "image/png": "[encoded data removed]",
      "text/plain": [
       "<Figure size 432x288 with 1 Axes>"
      ]
     },
     "metadata": {
      "needs_background": "light"
     },
     "output_type": "display_data"
    }
   ],
   "source": [
    "np.sqrt(df[['east', 'north']].groupby(df.index.hour).mean()**2).sum(axis=1).plot()"
   ]
  },
  {
   "cell_type": "code",
   "execution_count": 188,
   "id": "94db2786",
   "metadata": {},
   "outputs": [
    {
     "data": {
      "text/plain": [
       "<AxesSubplot:xlabel='Date_Time'>"
      ]
     },
     "execution_count": 188,
     "metadata": {},
     "output_type": "execute_result"
    },
    {
     "data": {
      "image/png": "[encoded data removed]",
      "text/plain": [
       "<Figure size 432x288 with 1 Axes>"
      ]
     },
     "metadata": {
      "needs_background": "light"
     },
     "output_type": "display_data"
    }
   ],
   "source": [
    "np.sqrt(df[['east_mu', 'north_mu']].groupby(df.index.hour).mean()**2).sum(axis=1).plot()"
   ]
  },
  {
   "cell_type": "markdown",
   "id": "5c7bf021",
   "metadata": {},
   "source": [
    "### prepare autocorrelation"
   ]
  },
  {
   "cell_type": "code",
   "execution_count": 189,
   "id": "d50deebc",
   "metadata": {},
   "outputs": [
    {
     "data": {
      "text/html": [
       "<div>\n",
       "<style scoped>\n",
       "    .dataframe tbody tr th:only-of-type {\n",
       "        vertical-align: middle;\n",
       "    }\n",
       "\n",
       "    .dataframe tbody tr th {\n",
       "        vertical-align: top;\n",
       "    }\n",
       "\n",
       "    .dataframe thead th {\n",
       "        text-align: right;\n",
       "    }\n",
       "</style>\n",
       "<table border=\"1\" class=\"dataframe\">\n",
       "  <thead>\n",
       "    <tr style=\"text-align: right;\">\n",
       "      <th></th>\n",
       "      <th>Wind_Spd</th>\n",
       "      <th>Wind_Dir</th>\n",
       "      <th>east</th>\n",
       "      <th>north</th>\n",
       "      <th>east_mu</th>\n",
       "      <th>north_mu</th>\n",
       "      <th>east_resid</th>\n",
       "      <th>north_resid</th>\n",
       "      <th>east_resid_prev</th>\n",
       "      <th>north_resid_prev</th>\n",
       "    </tr>\n",
       "    <tr>\n",
       "      <th>Date_Time</th>\n",
       "      <th></th>\n",
       "      <th></th>\n",
       "      <th></th>\n",
       "      <th></th>\n",
       "      <th></th>\n",
       "      <th></th>\n",
       "      <th></th>\n",
       "      <th></th>\n",
       "      <th></th>\n",
       "      <th></th>\n",
       "    </tr>\n",
       "  </thead>\n",
       "  <tbody>\n",
       "    <tr>\n",
       "      <th>2000-01-01 07:00:00</th>\n",
       "      <td>9.94</td>\n",
       "      <td>175.0</td>\n",
       "      <td>0.866328</td>\n",
       "      <td>-9.902175</td>\n",
       "      <td>-4.533230</td>\n",
       "      <td>-3.313729</td>\n",
       "      <td>5.399558</td>\n",
       "      <td>-6.588446</td>\n",
       "      <td>NaN</td>\n",
       "      <td>NaN</td>\n",
       "    </tr>\n",
       "    <tr>\n",
       "      <th>2000-01-01 08:00:00</th>\n",
       "      <td>9.52</td>\n",
       "      <td>181.0</td>\n",
       "      <td>-0.166147</td>\n",
       "      <td>-9.518550</td>\n",
       "      <td>-4.590891</td>\n",
       "      <td>-3.340740</td>\n",
       "      <td>4.424744</td>\n",
       "      <td>-6.177810</td>\n",
       "      <td>5.399558</td>\n",
       "      <td>-6.588446</td>\n",
       "    </tr>\n",
       "    <tr>\n",
       "      <th>2000-01-01 09:00:00</th>\n",
       "      <td>9.31</td>\n",
       "      <td>188.0</td>\n",
       "      <td>-1.295702</td>\n",
       "      <td>-9.219396</td>\n",
       "      <td>-4.567466</td>\n",
       "      <td>-3.371489</td>\n",
       "      <td>3.271765</td>\n",
       "      <td>-5.847907</td>\n",
       "      <td>4.424744</td>\n",
       "      <td>-6.177810</td>\n",
       "    </tr>\n",
       "    <tr>\n",
       "      <th>2000-01-01 10:00:00</th>\n",
       "      <td>9.33</td>\n",
       "      <td>197.0</td>\n",
       "      <td>-2.727828</td>\n",
       "      <td>-8.922323</td>\n",
       "      <td>-4.506369</td>\n",
       "      <td>-3.410048</td>\n",
       "      <td>1.778541</td>\n",
       "      <td>-5.512275</td>\n",
       "      <td>3.271765</td>\n",
       "      <td>-5.847907</td>\n",
       "    </tr>\n",
       "    <tr>\n",
       "      <th>2000-01-01 11:00:00</th>\n",
       "      <td>9.71</td>\n",
       "      <td>210.0</td>\n",
       "      <td>-4.855000</td>\n",
       "      <td>-8.409107</td>\n",
       "      <td>-4.487970</td>\n",
       "      <td>-3.436896</td>\n",
       "      <td>-0.367030</td>\n",
       "      <td>-4.972210</td>\n",
       "      <td>1.778541</td>\n",
       "      <td>-5.512275</td>\n",
       "    </tr>\n",
       "  </tbody>\n",
       "</table>\n",
       "</div>"
      ],
      "text/plain": [
       "                     Wind_Spd  Wind_Dir      east     north   east_mu  \\\n",
       "Date_Time                                                               \n",
       "2000-01-01 07:00:00      9.94     175.0  0.866328 -9.902175 -4.533230   \n",
       "2000-01-01 08:00:00      9.52     181.0 -0.166147 -9.518550 -4.590891   \n",
       "2000-01-01 09:00:00      9.31     188.0 -1.295702 -9.219396 -4.567466   \n",
       "2000-01-01 10:00:00      9.33     197.0 -2.727828 -8.922323 -4.506369   \n",
       "2000-01-01 11:00:00      9.71     210.0 -4.855000 -8.409107 -4.487970   \n",
       "\n",
       "                     north_mu  east_resid  north_resid  east_resid_prev  \\\n",
       "Date_Time                                                                 \n",
       "2000-01-01 07:00:00 -3.313729    5.399558    -6.588446              NaN   \n",
       "2000-01-01 08:00:00 -3.340740    4.424744    -6.177810         5.399558   \n",
       "2000-01-01 09:00:00 -3.371489    3.271765    -5.847907         4.424744   \n",
       "2000-01-01 10:00:00 -3.410048    1.778541    -5.512275         3.271765   \n",
       "2000-01-01 11:00:00 -3.436896   -0.367030    -4.972210         1.778541   \n",
       "\n",
       "                     north_resid_prev  \n",
       "Date_Time                              \n",
       "2000-01-01 07:00:00               NaN  \n",
       "2000-01-01 08:00:00         -6.588446  \n",
       "2000-01-01 09:00:00         -6.177810  \n",
       "2000-01-01 10:00:00         -5.847907  \n",
       "2000-01-01 11:00:00         -5.512275  "
      ]
     },
     "execution_count": 189,
     "metadata": {},
     "output_type": "execute_result"
    }
   ],
   "source": [
    "\n",
    "df['east_resid_prev'] = df.east_resid.shift(1)\n",
    "df['north_resid_prev'] = df.north_resid.shift(1)\n",
    "# df['dir_prev'] = df.Wind_Dir.shift(1)\n",
    "# df['spd_prev'] = df.Wind_Spd.shift(1)\n",
    "df.head()"
   ]
  },
  {
   "cell_type": "code",
   "execution_count": 190,
   "id": "0ea01002",
   "metadata": {
    "scrolled": true
   },
   "outputs": [
    {
     "data": {
      "text/html": [
       "<div>\n",
       "<style scoped>\n",
       "    .dataframe tbody tr th:only-of-type {\n",
       "        vertical-align: middle;\n",
       "    }\n",
       "\n",
       "    .dataframe tbody tr th {\n",
       "        vertical-align: top;\n",
       "    }\n",
       "\n",
       "    .dataframe thead th {\n",
       "        text-align: right;\n",
       "    }\n",
       "</style>\n",
       "<table border=\"1\" class=\"dataframe\">\n",
       "  <thead>\n",
       "    <tr style=\"text-align: right;\">\n",
       "      <th></th>\n",
       "      <th>Wind_Spd</th>\n",
       "      <th>Wind_Dir</th>\n",
       "      <th>east</th>\n",
       "      <th>north</th>\n",
       "      <th>east_mu</th>\n",
       "      <th>north_mu</th>\n",
       "      <th>east_resid</th>\n",
       "      <th>north_resid</th>\n",
       "      <th>east_resid_prev</th>\n",
       "      <th>north_resid_prev</th>\n",
       "    </tr>\n",
       "    <tr>\n",
       "      <th>Date_Time</th>\n",
       "      <th></th>\n",
       "      <th></th>\n",
       "      <th></th>\n",
       "      <th></th>\n",
       "      <th></th>\n",
       "      <th></th>\n",
       "      <th></th>\n",
       "      <th></th>\n",
       "      <th></th>\n",
       "      <th></th>\n",
       "    </tr>\n",
       "  </thead>\n",
       "  <tbody>\n",
       "    <tr>\n",
       "      <th>2000-01-01 08:00:00</th>\n",
       "      <td>9.52</td>\n",
       "      <td>181.0</td>\n",
       "      <td>-0.166147</td>\n",
       "      <td>-9.518550</td>\n",
       "      <td>-4.590891</td>\n",
       "      <td>-3.340740</td>\n",
       "      <td>4.424744</td>\n",
       "      <td>-6.177810</td>\n",
       "      <td>5.399558</td>\n",
       "      <td>-6.588446</td>\n",
       "    </tr>\n",
       "    <tr>\n",
       "      <th>2000-01-01 09:00:00</th>\n",
       "      <td>9.31</td>\n",
       "      <td>188.0</td>\n",
       "      <td>-1.295702</td>\n",
       "      <td>-9.219396</td>\n",
       "      <td>-4.567466</td>\n",
       "      <td>-3.371489</td>\n",
       "      <td>3.271765</td>\n",
       "      <td>-5.847907</td>\n",
       "      <td>4.424744</td>\n",
       "      <td>-6.177810</td>\n",
       "    </tr>\n",
       "    <tr>\n",
       "      <th>2000-01-01 10:00:00</th>\n",
       "      <td>9.33</td>\n",
       "      <td>197.0</td>\n",
       "      <td>-2.727828</td>\n",
       "      <td>-8.922323</td>\n",
       "      <td>-4.506369</td>\n",
       "      <td>-3.410048</td>\n",
       "      <td>1.778541</td>\n",
       "      <td>-5.512275</td>\n",
       "      <td>3.271765</td>\n",
       "      <td>-5.847907</td>\n",
       "    </tr>\n",
       "    <tr>\n",
       "      <th>2000-01-01 11:00:00</th>\n",
       "      <td>9.71</td>\n",
       "      <td>210.0</td>\n",
       "      <td>-4.855000</td>\n",
       "      <td>-8.409107</td>\n",
       "      <td>-4.487970</td>\n",
       "      <td>-3.436896</td>\n",
       "      <td>-0.367030</td>\n",
       "      <td>-4.972210</td>\n",
       "      <td>1.778541</td>\n",
       "      <td>-5.512275</td>\n",
       "    </tr>\n",
       "    <tr>\n",
       "      <th>2000-01-01 12:00:00</th>\n",
       "      <td>9.83</td>\n",
       "      <td>226.0</td>\n",
       "      <td>-7.071110</td>\n",
       "      <td>-6.828492</td>\n",
       "      <td>-4.506642</td>\n",
       "      <td>-3.427788</td>\n",
       "      <td>-2.564469</td>\n",
       "      <td>-3.400703</td>\n",
       "      <td>-0.367030</td>\n",
       "      <td>-4.972210</td>\n",
       "    </tr>\n",
       "  </tbody>\n",
       "</table>\n",
       "</div>"
      ],
      "text/plain": [
       "                     Wind_Spd  Wind_Dir      east     north   east_mu  \\\n",
       "Date_Time                                                               \n",
       "2000-01-01 08:00:00      9.52     181.0 -0.166147 -9.518550 -4.590891   \n",
       "2000-01-01 09:00:00      9.31     188.0 -1.295702 -9.219396 -4.567466   \n",
       "2000-01-01 10:00:00      9.33     197.0 -2.727828 -8.922323 -4.506369   \n",
       "2000-01-01 11:00:00      9.71     210.0 -4.855000 -8.409107 -4.487970   \n",
       "2000-01-01 12:00:00      9.83     226.0 -7.071110 -6.828492 -4.506642   \n",
       "\n",
       "                     north_mu  east_resid  north_resid  east_resid_prev  \\\n",
       "Date_Time                                                                 \n",
       "2000-01-01 08:00:00 -3.340740    4.424744    -6.177810         5.399558   \n",
       "2000-01-01 09:00:00 -3.371489    3.271765    -5.847907         4.424744   \n",
       "2000-01-01 10:00:00 -3.410048    1.778541    -5.512275         3.271765   \n",
       "2000-01-01 11:00:00 -3.436896   -0.367030    -4.972210         1.778541   \n",
       "2000-01-01 12:00:00 -3.427788   -2.564469    -3.400703        -0.367030   \n",
       "\n",
       "                     north_resid_prev  \n",
       "Date_Time                              \n",
       "2000-01-01 08:00:00         -6.588446  \n",
       "2000-01-01 09:00:00         -6.177810  \n",
       "2000-01-01 10:00:00         -5.847907  \n",
       "2000-01-01 11:00:00         -5.512275  \n",
       "2000-01-01 12:00:00         -4.972210  "
      ]
     },
     "execution_count": 190,
     "metadata": {},
     "output_type": "execute_result"
    }
   ],
   "source": [
    "df1 = df.dropna()\n",
    "df1 = df1.loc[~df1.index.hour.isin([7, 19])]\n",
    "# df1 = df1.loc[df1.index.month==7]\n",
    "df1.head()"
   ]
  },
  {
   "cell_type": "code",
   "execution_count": 191,
   "id": "ff0f2e7a",
   "metadata": {},
   "outputs": [
    {
     "data": {
      "text/html": [
       "<div>\n",
       "<style scoped>\n",
       "    .dataframe tbody tr th:only-of-type {\n",
       "        vertical-align: middle;\n",
       "    }\n",
       "\n",
       "    .dataframe tbody tr th {\n",
       "        vertical-align: top;\n",
       "    }\n",
       "\n",
       "    .dataframe thead th {\n",
       "        text-align: right;\n",
       "    }\n",
       "</style>\n",
       "<table border=\"1\" class=\"dataframe\">\n",
       "  <thead>\n",
       "    <tr style=\"text-align: right;\">\n",
       "      <th></th>\n",
       "      <th>Wind_Spd</th>\n",
       "      <th>Wind_Dir</th>\n",
       "      <th>east</th>\n",
       "      <th>north</th>\n",
       "      <th>east_mu</th>\n",
       "      <th>north_mu</th>\n",
       "      <th>east_resid</th>\n",
       "      <th>north_resid</th>\n",
       "      <th>east_resid_prev</th>\n",
       "      <th>north_resid_prev</th>\n",
       "    </tr>\n",
       "  </thead>\n",
       "  <tbody>\n",
       "    <tr>\n",
       "      <th>count</th>\n",
       "      <td>156002.000000</td>\n",
       "      <td>156002.000000</td>\n",
       "      <td>156002.000000</td>\n",
       "      <td>156002.000000</td>\n",
       "      <td>156002.000000</td>\n",
       "      <td>156002.000000</td>\n",
       "      <td>156002.000000</td>\n",
       "      <td>156002.000000</td>\n",
       "      <td>156002.000000</td>\n",
       "      <td>156002.000000</td>\n",
       "    </tr>\n",
       "    <tr>\n",
       "      <th>mean</th>\n",
       "      <td>6.408618</td>\n",
       "      <td>207.420931</td>\n",
       "      <td>-2.361158</td>\n",
       "      <td>-1.910784</td>\n",
       "      <td>-2.362769</td>\n",
       "      <td>-1.908187</td>\n",
       "      <td>0.001611</td>\n",
       "      <td>-0.002597</td>\n",
       "      <td>-0.001566</td>\n",
       "      <td>0.002386</td>\n",
       "    </tr>\n",
       "    <tr>\n",
       "      <th>std</th>\n",
       "      <td>3.239643</td>\n",
       "      <td>85.392235</td>\n",
       "      <td>4.617209</td>\n",
       "      <td>4.584876</td>\n",
       "      <td>1.407192</td>\n",
       "      <td>1.295185</td>\n",
       "      <td>4.397015</td>\n",
       "      <td>4.397635</td>\n",
       "      <td>4.394916</td>\n",
       "      <td>4.394809</td>\n",
       "    </tr>\n",
       "    <tr>\n",
       "      <th>min</th>\n",
       "      <td>0.020000</td>\n",
       "      <td>0.000000</td>\n",
       "      <td>-21.703777</td>\n",
       "      <td>-18.328828</td>\n",
       "      <td>-4.747917</td>\n",
       "      <td>-3.810583</td>\n",
       "      <td>-19.395228</td>\n",
       "      <td>-15.628318</td>\n",
       "      <td>-19.395228</td>\n",
       "      <td>-15.628318</td>\n",
       "    </tr>\n",
       "    <tr>\n",
       "      <th>25%</th>\n",
       "      <td>3.890000</td>\n",
       "      <td>158.000000</td>\n",
       "      <td>-5.779117</td>\n",
       "      <td>-5.143804</td>\n",
       "      <td>-3.717164</td>\n",
       "      <td>-2.982041</td>\n",
       "      <td>-3.169016</td>\n",
       "      <td>-3.100729</td>\n",
       "      <td>-3.171389</td>\n",
       "      <td>-3.093867</td>\n",
       "    </tr>\n",
       "    <tr>\n",
       "      <th>50%</th>\n",
       "      <td>6.110000</td>\n",
       "      <td>225.000000</td>\n",
       "      <td>-2.491403</td>\n",
       "      <td>-1.696551</td>\n",
       "      <td>-2.235949</td>\n",
       "      <td>-2.356590</td>\n",
       "      <td>-0.085658</td>\n",
       "      <td>0.022116</td>\n",
       "      <td>-0.099882</td>\n",
       "      <td>0.024670</td>\n",
       "    </tr>\n",
       "    <tr>\n",
       "      <th>75%</th>\n",
       "      <td>8.660000</td>\n",
       "      <td>266.000000</td>\n",
       "      <td>1.002835</td>\n",
       "      <td>1.393008</td>\n",
       "      <td>-1.412044</td>\n",
       "      <td>-0.764347</td>\n",
       "      <td>3.199688</td>\n",
       "      <td>3.028365</td>\n",
       "      <td>3.191148</td>\n",
       "      <td>3.029724</td>\n",
       "    </tr>\n",
       "    <tr>\n",
       "      <th>max</th>\n",
       "      <td>22.760000</td>\n",
       "      <td>360.000000</td>\n",
       "      <td>14.311519</td>\n",
       "      <td>15.392165</td>\n",
       "      <td>1.616399</td>\n",
       "      <td>1.202778</td>\n",
       "      <td>16.843645</td>\n",
       "      <td>18.451846</td>\n",
       "      <td>16.843645</td>\n",
       "      <td>18.451846</td>\n",
       "    </tr>\n",
       "  </tbody>\n",
       "</table>\n",
       "</div>"
      ],
      "text/plain": [
       "            Wind_Spd       Wind_Dir           east          north  \\\n",
       "count  156002.000000  156002.000000  156002.000000  156002.000000   \n",
       "mean        6.408618     207.420931      -2.361158      -1.910784   \n",
       "std         3.239643      85.392235       4.617209       4.584876   \n",
       "min         0.020000       0.000000     -21.703777     -18.328828   \n",
       "25%         3.890000     158.000000      -5.779117      -5.143804   \n",
       "50%         6.110000     225.000000      -2.491403      -1.696551   \n",
       "75%         8.660000     266.000000       1.002835       1.393008   \n",
       "max        22.760000     360.000000      14.311519      15.392165   \n",
       "\n",
       "             east_mu       north_mu     east_resid    north_resid  \\\n",
       "count  156002.000000  156002.000000  156002.000000  156002.000000   \n",
       "mean       -2.362769      -1.908187       0.001611      -0.002597   \n",
       "std         1.407192       1.295185       4.397015       4.397635   \n",
       "min        -4.747917      -3.810583     -19.395228     -15.628318   \n",
       "25%        -3.717164      -2.982041      -3.169016      -3.100729   \n",
       "50%        -2.235949      -2.356590      -0.085658       0.022116   \n",
       "75%        -1.412044      -0.764347       3.199688       3.028365   \n",
       "max         1.616399       1.202778      16.843645      18.451846   \n",
       "\n",
       "       east_resid_prev  north_resid_prev  \n",
       "count    156002.000000     156002.000000  \n",
       "mean         -0.001566          0.002386  \n",
       "std           4.394916          4.394809  \n",
       "min         -19.395228        -15.628318  \n",
       "25%          -3.171389         -3.093867  \n",
       "50%          -0.099882          0.024670  \n",
       "75%           3.191148          3.029724  \n",
       "max          16.843645         18.451846  "
      ]
     },
     "execution_count": 191,
     "metadata": {},
     "output_type": "execute_result"
    }
   ],
   "source": [
    "df1.describe()"
   ]
  },
  {
   "cell_type": "markdown",
   "id": "43cd9cc2",
   "metadata": {},
   "source": [
    "## Fit Resid"
   ]
  },
  {
   "cell_type": "code",
   "execution_count": 228,
   "id": "3d1af883",
   "metadata": {},
   "outputs": [],
   "source": [
    "julian_values = pd.Series(data=df1.index.to_julian_date(), index=df1.index)\n",
    "diurnal_fourier = fourier(julian_values, 1, degree=6).values\n",
    "seasonal_fourier = fourier(julian_values, 365.25, degree=6).values\n",
    "T6 = np.hstack([diurnal_fourier, seasonal_fourier, interaction(diurnal_fourier, seasonal_fourier)])\n",
    "\n",
    "T4 = np.hstack([diurnal_fourier[:,0:8], seasonal_fourier[:,0:8], interaction(diurnal_fourier[:,0:8], seasonal_fourier[:,0:8])])\n",
    "T3 = np.hstack([diurnal_fourier[:,0:6], seasonal_fourier[:,0:6], interaction(diurnal_fourier[:,0:6], seasonal_fourier[:,0:6])])\n",
    "T2 = np.hstack([diurnal_fourier[:,0:4], seasonal_fourier[:,0:4], interaction(diurnal_fourier[:,0:4], seasonal_fourier[:,0:4])])"
   ]
  },
  {
   "cell_type": "code",
   "execution_count": 229,
   "id": "219d7547",
   "metadata": {},
   "outputs": [
    {
     "data": {
      "text/plain": [
       "<AxesSubplot:xlabel='east_resid_prev', ylabel='east_resid'>"
      ]
     },
     "execution_count": 229,
     "metadata": {},
     "output_type": "execute_result"
    },
    {
     "data": {
      "image/png": "[encoded data removed]",
      "text/plain": [
       "<Figure size 432x288 with 1 Axes>"
      ]
     },
     "metadata": {
      "needs_background": "light"
     },
     "output_type": "display_data"
    }
   ],
   "source": [
    "df1.plot(kind='scatter', x='east_resid_prev', y='east_resid')"
   ]
  },
  {
   "cell_type": "code",
   "execution_count": 230,
   "id": "c621db98",
   "metadata": {},
   "outputs": [
    {
     "data": {
      "text/html": [
       "<style>#sk-container-id-17 {color: black;background-color: white;}#sk-container-id-17 pre{padding: 0;}#sk-container-id-17 div.sk-toggleable {background-color: white;}#sk-container-id-17 label.sk-toggleable__label {cursor: pointer;display: block;width: 100%;margin-bottom: 0;padding: 0.3em;box-sizing: border-box;text-align: center;}#sk-container-id-17 label.sk-toggleable__label-arrow:before {content: \"▸\";float: left;margin-right: 0.25em;color: #696969;}#sk-container-id-17 label.sk-toggleable__label-arrow:hover:before {color: black;}#sk-container-id-17 div.sk-estimator:hover label.sk-toggleable__label-arrow:before {color: black;}#sk-container-id-17 div.sk-toggleable__content {max-height: 0;max-width: 0;overflow: hidden;text-align: left;background-color: #f0f8ff;}#sk-container-id-17 div.sk-toggleable__content pre {margin: 0.2em;color: black;border-radius: 0.25em;background-color: #f0f8ff;}#sk-container-id-17 input.sk-toggleable__control:checked~div.sk-toggleable__content {max-height: 200px;max-width: 100%;overflow: auto;}#sk-container-id-17 input.sk-toggleable__control:checked~label.sk-toggleable__label-arrow:before {content: \"▾\";}#sk-container-id-17 div.sk-estimator input.sk-toggleable__control:checked~label.sk-toggleable__label {background-color: #d4ebff;}#sk-container-id-17 div.sk-label input.sk-toggleable__control:checked~label.sk-toggleable__label {background-color: #d4ebff;}#sk-container-id-17 input.sk-hidden--visually {border: 0;clip: rect(1px 1px 1px 1px);clip: rect(1px, 1px, 1px, 1px);height: 1px;margin: -1px;overflow: hidden;padding: 0;position: absolute;width: 1px;}#sk-container-id-17 div.sk-estimator {font-family: monospace;background-color: #f0f8ff;border: 1px dotted black;border-radius: 0.25em;box-sizing: border-box;margin-bottom: 0.5em;}#sk-container-id-17 div.sk-estimator:hover {background-color: #d4ebff;}#sk-container-id-17 div.sk-parallel-item::after {content: \"\";width: 100%;border-bottom: 1px solid gray;flex-grow: 1;}#sk-container-id-17 div.sk-label:hover label.sk-toggleable__label {background-color: #d4ebff;}#sk-container-id-17 div.sk-serial::before {content: \"\";position: absolute;border-left: 1px solid gray;box-sizing: border-box;top: 0;bottom: 0;left: 50%;z-index: 0;}#sk-container-id-17 div.sk-serial {display: flex;flex-direction: column;align-items: center;background-color: white;padding-right: 0.2em;padding-left: 0.2em;position: relative;}#sk-container-id-17 div.sk-item {position: relative;z-index: 1;}#sk-container-id-17 div.sk-parallel {display: flex;align-items: stretch;justify-content: center;background-color: white;position: relative;}#sk-container-id-17 div.sk-item::before, #sk-container-id-17 div.sk-parallel-item::before {content: \"\";position: absolute;border-left: 1px solid gray;box-sizing: border-box;top: 0;bottom: 0;left: 50%;z-index: -1;}#sk-container-id-17 div.sk-parallel-item {display: flex;flex-direction: column;z-index: 1;position: relative;background-color: white;}#sk-container-id-17 div.sk-parallel-item:first-child::after {align-self: flex-end;width: 50%;}#sk-container-id-17 div.sk-parallel-item:last-child::after {align-self: flex-start;width: 50%;}#sk-container-id-17 div.sk-parallel-item:only-child::after {width: 0;}#sk-container-id-17 div.sk-dashed-wrapped {border: 1px dashed gray;margin: 0 0.4em 0.5em 0.4em;box-sizing: border-box;padding-bottom: 0.4em;background-color: white;}#sk-container-id-17 div.sk-label label {font-family: monospace;font-weight: bold;display: inline-block;line-height: 1.2em;}#sk-container-id-17 div.sk-label-container {text-align: center;}#sk-container-id-17 div.sk-container {/* jupyter's `normalize.less` sets `[hidden] { display: none; }` but bootstrap.min.css set `[hidden] { display: none !important; }` so we also need the `!important` here to be able to override the default hidden behavior on the sphinx rendered scikit-learn.org. See: https://github.com/scikit-learn/scikit-learn/issues/21755 */display: inline-block !important;position: relative;}#sk-container-id-17 div.sk-text-repr-fallback {display: none;}</style><div id=\"sk-container-id-17\" class=\"sk-top-container\"><div class=\"sk-text-repr-fallback\"><pre>Ridge(alpha=1000, fit_intercept=False)</pre><b>In a Jupyter environment, please rerun this cell to show the HTML representation or trust the notebook. <br />On GitHub, the HTML representation is unable to render, please try loading this page with nbviewer.org.</b></div><div class=\"sk-container\" hidden><div class=\"sk-item\"><div class=\"sk-estimator sk-toggleable\"><input class=\"sk-toggleable__control sk-hidden--visually\" id=\"sk-estimator-id-17\" type=\"checkbox\" checked><label for=\"sk-estimator-id-17\" class=\"sk-toggleable__label sk-toggleable__label-arrow\">Ridge</label><div class=\"sk-toggleable__content\"><pre>Ridge(alpha=1000, fit_intercept=False)</pre></div></div></div></div></div>"
      ],
      "text/plain": [
       "Ridge(alpha=1000, fit_intercept=False)"
      ]
     },
     "execution_count": 230,
     "metadata": {},
     "output_type": "execute_result"
    }
   ],
   "source": [
    "\n",
    "linear = df1[['east_resid_prev', 'north_resid_prev']].values\n",
    "\n",
    "y = df1[['east_resid', 'north_resid']].values \n",
    "X_resid = np.hstack([linear, interaction(linear, T6)])\n",
    "reg_resid = linear_model.Ridge(alpha=1000, fit_intercept=False)\n",
    "reg_resid.fit(X_resid, y)"
   ]
  },
  {
   "cell_type": "code",
   "execution_count": 231,
   "id": "a4554969",
   "metadata": {},
   "outputs": [
    {
     "data": {
      "text/plain": [
       "0.0"
      ]
     },
     "execution_count": 231,
     "metadata": {},
     "output_type": "execute_result"
    }
   ],
   "source": [
    "reg_resid.intercept_"
   ]
  },
  {
   "cell_type": "code",
   "execution_count": 232,
   "id": "a1757e31",
   "metadata": {},
   "outputs": [
    {
     "data": {
      "text/plain": [
       "(2, 338)"
      ]
     },
     "execution_count": 232,
     "metadata": {},
     "output_type": "execute_result"
    }
   ],
   "source": [
    "reg_resid.coef_.shape"
   ]
  },
  {
   "cell_type": "markdown",
   "id": "c725d829",
   "metadata": {},
   "source": [
    "## Calculate Error"
   ]
  },
  {
   "cell_type": "code",
   "execution_count": 233,
   "id": "5ef22133",
   "metadata": {},
   "outputs": [],
   "source": [
    "east_north_deltas = reg_resid.predict(X_resid)"
   ]
  },
  {
   "cell_type": "code",
   "execution_count": 234,
   "id": "5f3a4475",
   "metadata": {},
   "outputs": [
    {
     "data": {
      "text/html": [
       "<div>\n",
       "<style scoped>\n",
       "    .dataframe tbody tr th:only-of-type {\n",
       "        vertical-align: middle;\n",
       "    }\n",
       "\n",
       "    .dataframe tbody tr th {\n",
       "        vertical-align: top;\n",
       "    }\n",
       "\n",
       "    .dataframe thead th {\n",
       "        text-align: right;\n",
       "    }\n",
       "</style>\n",
       "<table border=\"1\" class=\"dataframe\">\n",
       "  <thead>\n",
       "    <tr style=\"text-align: right;\">\n",
       "      <th></th>\n",
       "      <th>Wind_Spd</th>\n",
       "      <th>Wind_Dir</th>\n",
       "      <th>east</th>\n",
       "      <th>north</th>\n",
       "      <th>east_mu</th>\n",
       "      <th>north_mu</th>\n",
       "      <th>east_resid</th>\n",
       "      <th>north_resid</th>\n",
       "      <th>east_resid_prev</th>\n",
       "      <th>north_resid_prev</th>\n",
       "      <th>east_pred</th>\n",
       "      <th>north_pred</th>\n",
       "      <th>east_error</th>\n",
       "      <th>north_error</th>\n",
       "      <th>sq_error</th>\n",
       "      <th>pred_angle</th>\n",
       "      <th>dir_error2</th>\n",
       "      <th>spd_error2</th>\n",
       "    </tr>\n",
       "    <tr>\n",
       "      <th>Date_Time</th>\n",
       "      <th></th>\n",
       "      <th></th>\n",
       "      <th></th>\n",
       "      <th></th>\n",
       "      <th></th>\n",
       "      <th></th>\n",
       "      <th></th>\n",
       "      <th></th>\n",
       "      <th></th>\n",
       "      <th></th>\n",
       "      <th></th>\n",
       "      <th></th>\n",
       "      <th></th>\n",
       "      <th></th>\n",
       "      <th></th>\n",
       "      <th></th>\n",
       "      <th></th>\n",
       "      <th></th>\n",
       "    </tr>\n",
       "  </thead>\n",
       "  <tbody>\n",
       "    <tr>\n",
       "      <th>2000-01-01 08:00:00</th>\n",
       "      <td>9.52</td>\n",
       "      <td>181.0</td>\n",
       "      <td>-0.166147</td>\n",
       "      <td>-9.518550</td>\n",
       "      <td>-4.590891</td>\n",
       "      <td>-3.340740</td>\n",
       "      <td>4.424744</td>\n",
       "      <td>-6.177810</td>\n",
       "      <td>5.399558</td>\n",
       "      <td>-6.588446</td>\n",
       "      <td>0.362419</td>\n",
       "      <td>-10.019320</td>\n",
       "      <td>-0.528566</td>\n",
       "      <td>0.500770</td>\n",
       "      <td>0.530153</td>\n",
       "      <td>3.100643</td>\n",
       "      <td>0.308784</td>\n",
       "      <td>0.247580</td>\n",
       "    </tr>\n",
       "    <tr>\n",
       "      <th>2000-01-01 09:00:00</th>\n",
       "      <td>9.31</td>\n",
       "      <td>188.0</td>\n",
       "      <td>-1.295702</td>\n",
       "      <td>-9.219396</td>\n",
       "      <td>-4.567466</td>\n",
       "      <td>-3.371489</td>\n",
       "      <td>3.271765</td>\n",
       "      <td>-5.847907</td>\n",
       "      <td>4.424744</td>\n",
       "      <td>-6.177810</td>\n",
       "      <td>-0.512243</td>\n",
       "      <td>-9.585424</td>\n",
       "      <td>-0.783458</td>\n",
       "      <td>0.366028</td>\n",
       "      <td>0.747783</td>\n",
       "      <td>-3.090967</td>\n",
       "      <td>0.684764</td>\n",
       "      <td>0.134744</td>\n",
       "    </tr>\n",
       "    <tr>\n",
       "      <th>2000-01-01 10:00:00</th>\n",
       "      <td>9.33</td>\n",
       "      <td>197.0</td>\n",
       "      <td>-2.727828</td>\n",
       "      <td>-8.922323</td>\n",
       "      <td>-4.506369</td>\n",
       "      <td>-3.410048</td>\n",
       "      <td>1.778541</td>\n",
       "      <td>-5.512275</td>\n",
       "      <td>3.271765</td>\n",
       "      <td>-5.847907</td>\n",
       "      <td>-1.508721</td>\n",
       "      <td>-9.303016</td>\n",
       "      <td>-1.219107</td>\n",
       "      <td>0.380693</td>\n",
       "      <td>1.631148</td>\n",
       "      <td>-2.979492</td>\n",
       "      <td>1.567695</td>\n",
       "      <td>0.054178</td>\n",
       "    </tr>\n",
       "    <tr>\n",
       "      <th>2000-01-01 11:00:00</th>\n",
       "      <td>9.71</td>\n",
       "      <td>210.0</td>\n",
       "      <td>-4.855000</td>\n",
       "      <td>-8.409107</td>\n",
       "      <td>-4.487970</td>\n",
       "      <td>-3.436896</td>\n",
       "      <td>-0.367030</td>\n",
       "      <td>-4.972210</td>\n",
       "      <td>1.778541</td>\n",
       "      <td>-5.512275</td>\n",
       "      <td>-2.945500</td>\n",
       "      <td>-9.013148</td>\n",
       "      <td>-1.909500</td>\n",
       "      <td>0.604041</td>\n",
       "      <td>4.011056</td>\n",
       "      <td>-2.825340</td>\n",
       "      <td>3.995743</td>\n",
       "      <td>0.000009</td>\n",
       "    </tr>\n",
       "    <tr>\n",
       "      <th>2000-01-01 12:00:00</th>\n",
       "      <td>9.83</td>\n",
       "      <td>226.0</td>\n",
       "      <td>-7.071110</td>\n",
       "      <td>-6.828492</td>\n",
       "      <td>-4.506642</td>\n",
       "      <td>-3.427788</td>\n",
       "      <td>-2.564469</td>\n",
       "      <td>-3.400703</td>\n",
       "      <td>-0.367030</td>\n",
       "      <td>-4.972210</td>\n",
       "      <td>-5.080523</td>\n",
       "      <td>-8.404396</td>\n",
       "      <td>-1.990588</td>\n",
       "      <td>1.575905</td>\n",
       "      <td>6.445915</td>\n",
       "      <td>-2.600934</td>\n",
       "      <td>6.491929</td>\n",
       "      <td>0.095358</td>\n",
       "    </tr>\n",
       "  </tbody>\n",
       "</table>\n",
       "</div>"
      ],
      "text/plain": [
       "                     Wind_Spd  Wind_Dir      east     north   east_mu  \\\n",
       "Date_Time                                                               \n",
       "2000-01-01 08:00:00      9.52     181.0 -0.166147 -9.518550 -4.590891   \n",
       "2000-01-01 09:00:00      9.31     188.0 -1.295702 -9.219396 -4.567466   \n",
       "2000-01-01 10:00:00      9.33     197.0 -2.727828 -8.922323 -4.506369   \n",
       "2000-01-01 11:00:00      9.71     210.0 -4.855000 -8.409107 -4.487970   \n",
       "2000-01-01 12:00:00      9.83     226.0 -7.071110 -6.828492 -4.506642   \n",
       "\n",
       "                     north_mu  east_resid  north_resid  east_resid_prev  \\\n",
       "Date_Time                                                                 \n",
       "2000-01-01 08:00:00 -3.340740    4.424744    -6.177810         5.399558   \n",
       "2000-01-01 09:00:00 -3.371489    3.271765    -5.847907         4.424744   \n",
       "2000-01-01 10:00:00 -3.410048    1.778541    -5.512275         3.271765   \n",
       "2000-01-01 11:00:00 -3.436896   -0.367030    -4.972210         1.778541   \n",
       "2000-01-01 12:00:00 -3.427788   -2.564469    -3.400703        -0.367030   \n",
       "\n",
       "                     north_resid_prev  east_pred  north_pred  east_error  \\\n",
       "Date_Time                                                                  \n",
       "2000-01-01 08:00:00         -6.588446   0.362419  -10.019320   -0.528566   \n",
       "2000-01-01 09:00:00         -6.177810  -0.512243   -9.585424   -0.783458   \n",
       "2000-01-01 10:00:00         -5.847907  -1.508721   -9.303016   -1.219107   \n",
       "2000-01-01 11:00:00         -5.512275  -2.945500   -9.013148   -1.909500   \n",
       "2000-01-01 12:00:00         -4.972210  -5.080523   -8.404396   -1.990588   \n",
       "\n",
       "                     north_error  sq_error  pred_angle  dir_error2  spd_error2  \n",
       "Date_Time                                                                       \n",
       "2000-01-01 08:00:00     0.500770  0.530153    3.100643    0.308784    0.247580  \n",
       "2000-01-01 09:00:00     0.366028  0.747783   -3.090967    0.684764    0.134744  \n",
       "2000-01-01 10:00:00     0.380693  1.631148   -2.979492    1.567695    0.054178  \n",
       "2000-01-01 11:00:00     0.604041  4.011056   -2.825340    3.995743    0.000009  \n",
       "2000-01-01 12:00:00     1.575905  6.445915   -2.600934    6.491929    0.095358  "
      ]
     },
     "execution_count": 234,
     "metadata": {},
     "output_type": "execute_result"
    }
   ],
   "source": [
    "df1[['east_pred', 'north_pred']] = df1[['east_mu', 'north_mu']].values + east_north_deltas\n",
    "df1['east_error'] = df1.east - df1.east_pred\n",
    "df1['north_error'] = df1.north - df1.north_pred\n",
    "df1['sq_error'] = df1.east_error**2 + df1.north_error**2\n",
    "df1.head()"
   ]
  },
  {
   "cell_type": "code",
   "execution_count": 235,
   "id": "3387f6f2",
   "metadata": {},
   "outputs": [],
   "source": [
    "df1['pred_angle'] = np.arctan2(df1.east_pred, df1.north_pred)"
   ]
  },
  {
   "cell_type": "code",
   "execution_count": 236,
   "id": "b3d1e705",
   "metadata": {},
   "outputs": [
    {
     "data": {
      "text/html": [
       "<div>\n",
       "<style scoped>\n",
       "    .dataframe tbody tr th:only-of-type {\n",
       "        vertical-align: middle;\n",
       "    }\n",
       "\n",
       "    .dataframe tbody tr th {\n",
       "        vertical-align: top;\n",
       "    }\n",
       "\n",
       "    .dataframe thead th {\n",
       "        text-align: right;\n",
       "    }\n",
       "</style>\n",
       "<table border=\"1\" class=\"dataframe\">\n",
       "  <thead>\n",
       "    <tr style=\"text-align: right;\">\n",
       "      <th></th>\n",
       "      <th>Wind_Spd</th>\n",
       "      <th>Wind_Dir</th>\n",
       "      <th>east</th>\n",
       "      <th>north</th>\n",
       "      <th>east_mu</th>\n",
       "      <th>north_mu</th>\n",
       "      <th>east_resid</th>\n",
       "      <th>north_resid</th>\n",
       "      <th>east_resid_prev</th>\n",
       "      <th>north_resid_prev</th>\n",
       "      <th>east_pred</th>\n",
       "      <th>north_pred</th>\n",
       "      <th>east_error</th>\n",
       "      <th>north_error</th>\n",
       "      <th>sq_error</th>\n",
       "      <th>pred_angle</th>\n",
       "      <th>dir_error2</th>\n",
       "      <th>spd_error2</th>\n",
       "    </tr>\n",
       "    <tr>\n",
       "      <th>Date_Time</th>\n",
       "      <th></th>\n",
       "      <th></th>\n",
       "      <th></th>\n",
       "      <th></th>\n",
       "      <th></th>\n",
       "      <th></th>\n",
       "      <th></th>\n",
       "      <th></th>\n",
       "      <th></th>\n",
       "      <th></th>\n",
       "      <th></th>\n",
       "      <th></th>\n",
       "      <th></th>\n",
       "      <th></th>\n",
       "      <th></th>\n",
       "      <th></th>\n",
       "      <th></th>\n",
       "      <th></th>\n",
       "    </tr>\n",
       "  </thead>\n",
       "  <tbody>\n",
       "    <tr>\n",
       "      <th>2000-01-01 08:00:00</th>\n",
       "      <td>9.52</td>\n",
       "      <td>181.0</td>\n",
       "      <td>-0.166147</td>\n",
       "      <td>-9.518550</td>\n",
       "      <td>-4.590891</td>\n",
       "      <td>-3.340740</td>\n",
       "      <td>4.424744</td>\n",
       "      <td>-6.177810</td>\n",
       "      <td>5.399558</td>\n",
       "      <td>-6.588446</td>\n",
       "      <td>0.362419</td>\n",
       "      <td>-10.019320</td>\n",
       "      <td>-0.528566</td>\n",
       "      <td>0.500770</td>\n",
       "      <td>0.530153</td>\n",
       "      <td>3.105436</td>\n",
       "      <td>0.260221</td>\n",
       "      <td>0.269931</td>\n",
       "    </tr>\n",
       "    <tr>\n",
       "      <th>2000-01-01 09:00:00</th>\n",
       "      <td>9.31</td>\n",
       "      <td>188.0</td>\n",
       "      <td>-1.295702</td>\n",
       "      <td>-9.219396</td>\n",
       "      <td>-4.567466</td>\n",
       "      <td>-3.371489</td>\n",
       "      <td>3.271765</td>\n",
       "      <td>-5.847907</td>\n",
       "      <td>4.424744</td>\n",
       "      <td>-6.177810</td>\n",
       "      <td>-0.512243</td>\n",
       "      <td>-9.585424</td>\n",
       "      <td>-0.783458</td>\n",
       "      <td>0.366028</td>\n",
       "      <td>0.747783</td>\n",
       "      <td>-3.088204</td>\n",
       "      <td>0.643003</td>\n",
       "      <td>0.104780</td>\n",
       "    </tr>\n",
       "    <tr>\n",
       "      <th>2000-01-01 10:00:00</th>\n",
       "      <td>9.33</td>\n",
       "      <td>197.0</td>\n",
       "      <td>-2.727828</td>\n",
       "      <td>-8.922323</td>\n",
       "      <td>-4.506369</td>\n",
       "      <td>-3.410048</td>\n",
       "      <td>1.778541</td>\n",
       "      <td>-5.512275</td>\n",
       "      <td>3.271765</td>\n",
       "      <td>-5.847907</td>\n",
       "      <td>-1.508721</td>\n",
       "      <td>-9.303016</td>\n",
       "      <td>-1.219107</td>\n",
       "      <td>0.380693</td>\n",
       "      <td>1.631148</td>\n",
       "      <td>-2.980817</td>\n",
       "      <td>1.598523</td>\n",
       "      <td>0.032625</td>\n",
       "    </tr>\n",
       "    <tr>\n",
       "      <th>2000-01-01 11:00:00</th>\n",
       "      <td>9.71</td>\n",
       "      <td>210.0</td>\n",
       "      <td>-4.855000</td>\n",
       "      <td>-8.409107</td>\n",
       "      <td>-4.487970</td>\n",
       "      <td>-3.436896</td>\n",
       "      <td>-0.367030</td>\n",
       "      <td>-4.972210</td>\n",
       "      <td>1.778541</td>\n",
       "      <td>-5.512275</td>\n",
       "      <td>-2.945500</td>\n",
       "      <td>-9.013148</td>\n",
       "      <td>-1.909500</td>\n",
       "      <td>0.604041</td>\n",
       "      <td>4.011056</td>\n",
       "      <td>-2.825733</td>\n",
       "      <td>4.010695</td>\n",
       "      <td>0.000361</td>\n",
       "    </tr>\n",
       "    <tr>\n",
       "      <th>2000-01-01 12:00:00</th>\n",
       "      <td>9.83</td>\n",
       "      <td>226.0</td>\n",
       "      <td>-7.071110</td>\n",
       "      <td>-6.828492</td>\n",
       "      <td>-4.506642</td>\n",
       "      <td>-3.427788</td>\n",
       "      <td>-2.564469</td>\n",
       "      <td>-3.400703</td>\n",
       "      <td>-0.367030</td>\n",
       "      <td>-4.972210</td>\n",
       "      <td>-5.080523</td>\n",
       "      <td>-8.404396</td>\n",
       "      <td>-1.990588</td>\n",
       "      <td>1.575905</td>\n",
       "      <td>6.445915</td>\n",
       "      <td>-2.597865</td>\n",
       "      <td>6.344251</td>\n",
       "      <td>0.101664</td>\n",
       "    </tr>\n",
       "  </tbody>\n",
       "</table>\n",
       "</div>"
      ],
      "text/plain": [
       "                     Wind_Spd  Wind_Dir      east     north   east_mu  \\\n",
       "Date_Time                                                               \n",
       "2000-01-01 08:00:00      9.52     181.0 -0.166147 -9.518550 -4.590891   \n",
       "2000-01-01 09:00:00      9.31     188.0 -1.295702 -9.219396 -4.567466   \n",
       "2000-01-01 10:00:00      9.33     197.0 -2.727828 -8.922323 -4.506369   \n",
       "2000-01-01 11:00:00      9.71     210.0 -4.855000 -8.409107 -4.487970   \n",
       "2000-01-01 12:00:00      9.83     226.0 -7.071110 -6.828492 -4.506642   \n",
       "\n",
       "                     north_mu  east_resid  north_resid  east_resid_prev  \\\n",
       "Date_Time                                                                 \n",
       "2000-01-01 08:00:00 -3.340740    4.424744    -6.177810         5.399558   \n",
       "2000-01-01 09:00:00 -3.371489    3.271765    -5.847907         4.424744   \n",
       "2000-01-01 10:00:00 -3.410048    1.778541    -5.512275         3.271765   \n",
       "2000-01-01 11:00:00 -3.436896   -0.367030    -4.972210         1.778541   \n",
       "2000-01-01 12:00:00 -3.427788   -2.564469    -3.400703        -0.367030   \n",
       "\n",
       "                     north_resid_prev  east_pred  north_pred  east_error  \\\n",
       "Date_Time                                                                  \n",
       "2000-01-01 08:00:00         -6.588446   0.362419  -10.019320   -0.528566   \n",
       "2000-01-01 09:00:00         -6.177810  -0.512243   -9.585424   -0.783458   \n",
       "2000-01-01 10:00:00         -5.847907  -1.508721   -9.303016   -1.219107   \n",
       "2000-01-01 11:00:00         -5.512275  -2.945500   -9.013148   -1.909500   \n",
       "2000-01-01 12:00:00         -4.972210  -5.080523   -8.404396   -1.990588   \n",
       "\n",
       "                     north_error  sq_error  pred_angle  dir_error2  spd_error2  \n",
       "Date_Time                                                                       \n",
       "2000-01-01 08:00:00     0.500770  0.530153    3.105436    0.260221    0.269931  \n",
       "2000-01-01 09:00:00     0.366028  0.747783   -3.088204    0.643003    0.104780  \n",
       "2000-01-01 10:00:00     0.380693  1.631148   -2.980817    1.598523    0.032625  \n",
       "2000-01-01 11:00:00     0.604041  4.011056   -2.825733    4.010695    0.000361  \n",
       "2000-01-01 12:00:00     1.575905  6.445915   -2.597865    6.344251    0.101664  "
      ]
     },
     "execution_count": 236,
     "metadata": {},
     "output_type": "execute_result"
    }
   ],
   "source": [
    "df1[['dir_error2', 'spd_error2']] = rotate_clockwise(df1.east_error, df1.north_error, -df1.pred_angle)**2\n",
    "df1.head()"
   ]
  },
  {
   "cell_type": "markdown",
   "id": "d876aec2",
   "metadata": {},
   "source": [
    "### Fit Residual Variance"
   ]
  },
  {
   "cell_type": "code",
   "execution_count": 237,
   "id": "f75e9c99",
   "metadata": {},
   "outputs": [
    {
     "data": {
      "text/plain": [
       "1.1247067010492264"
      ]
     },
     "execution_count": 237,
     "metadata": {},
     "output_type": "execute_result"
    }
   ],
   "source": [
    "sigma = np.sqrt(df1.sq_error.mean())\n",
    "sigma"
   ]
  },
  {
   "cell_type": "code",
   "execution_count": 238,
   "id": "a6b5b576",
   "metadata": {},
   "outputs": [],
   "source": [
    "# np.sqrt(df1.dir_error2.mean())"
   ]
  },
  {
   "cell_type": "code",
   "execution_count": 239,
   "id": "0ae7040c",
   "metadata": {},
   "outputs": [],
   "source": [
    "# np.sqrt(df1.spd_error2.mean())"
   ]
  },
  {
   "cell_type": "code",
   "execution_count": 240,
   "id": "170bcfdb",
   "metadata": {},
   "outputs": [],
   "source": [
    "# df1.dir_error2.groupby(pd.cut(df1.pred_angle, np.linspace(-np.pi, np.pi, 15))).mean().plot()"
   ]
  },
  {
   "cell_type": "code",
   "execution_count": 241,
   "id": "8caa30ec",
   "metadata": {},
   "outputs": [],
   "source": [
    "# df1.spd_error2.groupby(pd.cut(df1.pred_angle, np.linspace(-np.pi, np.pi, 15))).mean().plot()"
   ]
  },
  {
   "cell_type": "code",
   "execution_count": 249,
   "id": "2762a412",
   "metadata": {},
   "outputs": [
    {
     "data": {
      "text/html": [
       "<style>#sk-container-id-19 {color: black;background-color: white;}#sk-container-id-19 pre{padding: 0;}#sk-container-id-19 div.sk-toggleable {background-color: white;}#sk-container-id-19 label.sk-toggleable__label {cursor: pointer;display: block;width: 100%;margin-bottom: 0;padding: 0.3em;box-sizing: border-box;text-align: center;}#sk-container-id-19 label.sk-toggleable__label-arrow:before {content: \"▸\";float: left;margin-right: 0.25em;color: #696969;}#sk-container-id-19 label.sk-toggleable__label-arrow:hover:before {color: black;}#sk-container-id-19 div.sk-estimator:hover label.sk-toggleable__label-arrow:before {color: black;}#sk-container-id-19 div.sk-toggleable__content {max-height: 0;max-width: 0;overflow: hidden;text-align: left;background-color: #f0f8ff;}#sk-container-id-19 div.sk-toggleable__content pre {margin: 0.2em;color: black;border-radius: 0.25em;background-color: #f0f8ff;}#sk-container-id-19 input.sk-toggleable__control:checked~div.sk-toggleable__content {max-height: 200px;max-width: 100%;overflow: auto;}#sk-container-id-19 input.sk-toggleable__control:checked~label.sk-toggleable__label-arrow:before {content: \"▾\";}#sk-container-id-19 div.sk-estimator input.sk-toggleable__control:checked~label.sk-toggleable__label {background-color: #d4ebff;}#sk-container-id-19 div.sk-label input.sk-toggleable__control:checked~label.sk-toggleable__label {background-color: #d4ebff;}#sk-container-id-19 input.sk-hidden--visually {border: 0;clip: rect(1px 1px 1px 1px);clip: rect(1px, 1px, 1px, 1px);height: 1px;margin: -1px;overflow: hidden;padding: 0;position: absolute;width: 1px;}#sk-container-id-19 div.sk-estimator {font-family: monospace;background-color: #f0f8ff;border: 1px dotted black;border-radius: 0.25em;box-sizing: border-box;margin-bottom: 0.5em;}#sk-container-id-19 div.sk-estimator:hover {background-color: #d4ebff;}#sk-container-id-19 div.sk-parallel-item::after {content: \"\";width: 100%;border-bottom: 1px solid gray;flex-grow: 1;}#sk-container-id-19 div.sk-label:hover label.sk-toggleable__label {background-color: #d4ebff;}#sk-container-id-19 div.sk-serial::before {content: \"\";position: absolute;border-left: 1px solid gray;box-sizing: border-box;top: 0;bottom: 0;left: 50%;z-index: 0;}#sk-container-id-19 div.sk-serial {display: flex;flex-direction: column;align-items: center;background-color: white;padding-right: 0.2em;padding-left: 0.2em;position: relative;}#sk-container-id-19 div.sk-item {position: relative;z-index: 1;}#sk-container-id-19 div.sk-parallel {display: flex;align-items: stretch;justify-content: center;background-color: white;position: relative;}#sk-container-id-19 div.sk-item::before, #sk-container-id-19 div.sk-parallel-item::before {content: \"\";position: absolute;border-left: 1px solid gray;box-sizing: border-box;top: 0;bottom: 0;left: 50%;z-index: -1;}#sk-container-id-19 div.sk-parallel-item {display: flex;flex-direction: column;z-index: 1;position: relative;background-color: white;}#sk-container-id-19 div.sk-parallel-item:first-child::after {align-self: flex-end;width: 50%;}#sk-container-id-19 div.sk-parallel-item:last-child::after {align-self: flex-start;width: 50%;}#sk-container-id-19 div.sk-parallel-item:only-child::after {width: 0;}#sk-container-id-19 div.sk-dashed-wrapped {border: 1px dashed gray;margin: 0 0.4em 0.5em 0.4em;box-sizing: border-box;padding-bottom: 0.4em;background-color: white;}#sk-container-id-19 div.sk-label label {font-family: monospace;font-weight: bold;display: inline-block;line-height: 1.2em;}#sk-container-id-19 div.sk-label-container {text-align: center;}#sk-container-id-19 div.sk-container {/* jupyter's `normalize.less` sets `[hidden] { display: none; }` but bootstrap.min.css set `[hidden] { display: none !important; }` so we also need the `!important` here to be able to override the default hidden behavior on the sphinx rendered scikit-learn.org. See: https://github.com/scikit-learn/scikit-learn/issues/21755 */display: inline-block !important;position: relative;}#sk-container-id-19 div.sk-text-repr-fallback {display: none;}</style><div id=\"sk-container-id-19\" class=\"sk-top-container\"><div class=\"sk-text-repr-fallback\"><pre>Ridge(alpha=1000)</pre><b>In a Jupyter environment, please rerun this cell to show the HTML representation or trust the notebook. <br />On GitHub, the HTML representation is unable to render, please try loading this page with nbviewer.org.</b></div><div class=\"sk-container\" hidden><div class=\"sk-item\"><div class=\"sk-estimator sk-toggleable\"><input class=\"sk-toggleable__control sk-hidden--visually\" id=\"sk-estimator-id-19\" type=\"checkbox\" checked><label for=\"sk-estimator-id-19\" class=\"sk-toggleable__label sk-toggleable__label-arrow\">Ridge</label><div class=\"sk-toggleable__content\"><pre>Ridge(alpha=1000)</pre></div></div></div></div></div>"
      ],
      "text/plain": [
       "Ridge(alpha=1000)"
      ]
     },
     "execution_count": 249,
     "metadata": {},
     "output_type": "execute_result"
    }
   ],
   "source": [
    "y = df1[['dir_error2', 'spd_error2']].values\n",
    "# y = df1.sq_error.values\n",
    "# direction_fourier = fourier(df1.pred_angle, degree=3).values\n",
    "# X_error = np.hstack([direction_fourier, T4, interaction(direction_fourier, T2)])\n",
    "X_error = T6\n",
    "reg_error = linear_model.Ridge(alpha=1000, fit_intercept=True)\n",
    "reg_error.fit(X_error, y)"
   ]
  },
  {
   "cell_type": "code",
   "execution_count": 250,
   "id": "e1166fbd",
   "metadata": {},
   "outputs": [
    {
     "data": {
      "text/plain": [
       "array([0.75061567, 0.51036066])"
      ]
     },
     "execution_count": 250,
     "metadata": {},
     "output_type": "execute_result"
    }
   ],
   "source": [
    "reg_error.intercept_"
   ]
  },
  {
   "cell_type": "code",
   "execution_count": 251,
   "id": "54a1fee7",
   "metadata": {},
   "outputs": [
    {
     "data": {
      "text/plain": [
       "(2, 168)"
      ]
     },
     "execution_count": 251,
     "metadata": {},
     "output_type": "execute_result"
    }
   ],
   "source": [
    "reg_error.coef_.shape"
   ]
  },
  {
   "cell_type": "code",
   "execution_count": 252,
   "id": "f70105dc",
   "metadata": {},
   "outputs": [
    {
     "data": {
      "text/plain": [
       "<AxesSubplot:xlabel='Date_Time'>"
      ]
     },
     "execution_count": 252,
     "metadata": {},
     "output_type": "execute_result"
    },
    {
     "data": {
      "image/png": "[encoded data removed]",
      "text/plain": [
       "<Figure size 432x288 with 1 Axes>"
      ]
     },
     "metadata": {
      "needs_background": "light"
     },
     "output_type": "display_data"
    }
   ],
   "source": [
    "df1.dir_error2.groupby(df1.index.hour).mean().plot()"
   ]
  },
  {
   "cell_type": "code",
   "execution_count": 253,
   "id": "749d44d9",
   "metadata": {},
   "outputs": [
    {
     "data": {
      "text/plain": [
       "<AxesSubplot:xlabel='Date_Time'>"
      ]
     },
     "execution_count": 253,
     "metadata": {},
     "output_type": "execute_result"
    },
    {
     "data": {
      "image/png": "[encoded data removed]",
      "text/plain": [
       "<Figure size 432x288 with 1 Axes>"
      ]
     },
     "metadata": {
      "needs_background": "light"
     },
     "output_type": "display_data"
    }
   ],
   "source": [
    "df1.spd_error2.groupby(df1.index.hour).mean().plot()"
   ]
  },
  {
   "cell_type": "code",
   "execution_count": 254,
   "id": "8657ea79",
   "metadata": {},
   "outputs": [
    {
     "data": {
      "text/plain": [
       "<AxesSubplot:xlabel='Date_Time'>"
      ]
     },
     "execution_count": 254,
     "metadata": {},
     "output_type": "execute_result"
    },
    {
     "data": {
      "image/png": "[encoded data removed]",
      "text/plain": [
       "<Figure size 432x288 with 1 Axes>"
      ]
     },
     "metadata": {
      "needs_background": "light"
     },
     "output_type": "display_data"
    }
   ],
   "source": [
    "df1.dir_error2.groupby(df1.index.month).mean().plot()"
   ]
  },
  {
   "cell_type": "code",
   "execution_count": 255,
   "id": "df862a0d",
   "metadata": {},
   "outputs": [
    {
     "data": {
      "text/plain": [
       "<AxesSubplot:xlabel='Date_Time'>"
      ]
     },
     "execution_count": 255,
     "metadata": {},
     "output_type": "execute_result"
    },
    {
     "data": {
      "image/png": "[encoded data removed]",
      "text/plain": [
       "<Figure size 432x288 with 1 Axes>"
      ]
     },
     "metadata": {
      "needs_background": "light"
     },
     "output_type": "display_data"
    }
   ],
   "source": [
    "df1.spd_error2.groupby(df1.index.month).mean().plot()"
   ]
  },
  {
   "cell_type": "markdown",
   "id": "47411f24",
   "metadata": {},
   "source": [
    "## Generate Timeseries"
   ]
  },
  {
   "cell_type": "code",
   "execution_count": 311,
   "id": "dc9357b7",
   "metadata": {},
   "outputs": [],
   "source": [
    "np.random.seed(991)\n",
    "# reproduce the time series\n",
    "# julian_values = pd.Series(data=df1.index.to_julian_date(), index=df1.index)\n",
    "# diurnal_fourier = fourier(julian_values, 1, degree=3).values\n",
    "# seasonal_fourier = fourier(julian_values, 365.25, degree=3).values\n",
    "# T3 = np.hstack([diurnal_fourier, seasonal_fourier, interaction(diurnal_fourier, seasonal_fourier)])\n",
    "# T2 = np.hstack([diurnal_fourier[:,0:4], seasonal_fourier[:,0:4], interaction(diurnal_fourier[:,0:4], seasonal_fourier[:,0:4])])\n",
    "new_index = pd.date_range(start='2001-01-01', end='2001-12-31 23:00:00', freq='h')\n",
    "df_new = pd.DataFrame(index=new_index)\n",
    "julian_gen = pd.Series(data=new_index.to_julian_date(), index=new_index)\n",
    "diurnal_fourier_gen = fourier(julian_gen, 1, 6).values\n",
    "seasonal_fourier_gen = fourier(julian_gen, 365.25, degree=6).values\n",
    "T6_gen = np.hstack([diurnal_fourier_gen, seasonal_fourier_gen, interaction(diurnal_fourier_gen, seasonal_fourier_gen)])\n",
    "T4_gen = np.hstack([diurnal_fourier_gen[:,0:8], seasonal_fourier_gen[:,0:8], interaction(diurnal_fourier_gen[:,0:8], seasonal_fourier_gen[:,0:8])])\n",
    "T3_gen = np.hstack([diurnal_fourier_gen[:,0:6], seasonal_fourier_gen[:,0:6], interaction(diurnal_fourier_gen[:,0:6], seasonal_fourier_gen[:,0:6])])\n",
    "T2_gen = np.hstack([diurnal_fourier_gen[:,0:4], seasonal_fourier_gen[:,0:4], interaction(diurnal_fourier_gen[:,0:4], seasonal_fourier_gen[:,0:4])])\n",
    "df_new[['east_mu', 'north_mu']] = reg_mu.predict(T6_gen)\n",
    "df_new[['dir_sigma', 'spd_sigma']] = np.sqrt(reg_error.predict(T6_gen))\n",
    "\n",
    "normals = np.random.normal(size=(df_new.shape[0], 2))\n",
    "sigmas = normals * df_new[['dir_sigma', 'spd_sigma']].values"
   ]
  },
  {
   "cell_type": "code",
   "execution_count": 312,
   "id": "4158e296",
   "metadata": {},
   "outputs": [
    {
     "data": {
      "text/html": [
       "<div>\n",
       "<style scoped>\n",
       "    .dataframe tbody tr th:only-of-type {\n",
       "        vertical-align: middle;\n",
       "    }\n",
       "\n",
       "    .dataframe tbody tr th {\n",
       "        vertical-align: top;\n",
       "    }\n",
       "\n",
       "    .dataframe thead th {\n",
       "        text-align: right;\n",
       "    }\n",
       "</style>\n",
       "<table border=\"1\" class=\"dataframe\">\n",
       "  <thead>\n",
       "    <tr style=\"text-align: right;\">\n",
       "      <th></th>\n",
       "      <th>east_mu</th>\n",
       "      <th>north_mu</th>\n",
       "      <th>dir_sigma</th>\n",
       "      <th>spd_sigma</th>\n",
       "      <th>east</th>\n",
       "      <th>north</th>\n",
       "    </tr>\n",
       "  </thead>\n",
       "  <tbody>\n",
       "    <tr>\n",
       "      <th>2001-12-31 19:00:00</th>\n",
       "      <td>-4.390532</td>\n",
       "      <td>-2.846285</td>\n",
       "      <td>0.769515</td>\n",
       "      <td>0.635914</td>\n",
       "      <td>-2.441632</td>\n",
       "      <td>1.325013</td>\n",
       "    </tr>\n",
       "    <tr>\n",
       "      <th>2001-12-31 20:00:00</th>\n",
       "      <td>-4.424139</td>\n",
       "      <td>-2.493014</td>\n",
       "      <td>0.842880</td>\n",
       "      <td>0.657649</td>\n",
       "      <td>-1.173954</td>\n",
       "      <td>1.694752</td>\n",
       "    </tr>\n",
       "    <tr>\n",
       "      <th>2001-12-31 21:00:00</th>\n",
       "      <td>-4.435504</td>\n",
       "      <td>-2.265253</td>\n",
       "      <td>0.880515</td>\n",
       "      <td>0.655579</td>\n",
       "      <td>-1.197067</td>\n",
       "      <td>1.362495</td>\n",
       "    </tr>\n",
       "    <tr>\n",
       "      <th>2001-12-31 22:00:00</th>\n",
       "      <td>-4.388471</td>\n",
       "      <td>-2.235818</td>\n",
       "      <td>0.837030</td>\n",
       "      <td>0.633267</td>\n",
       "      <td>-2.431219</td>\n",
       "      <td>-0.188666</td>\n",
       "    </tr>\n",
       "    <tr>\n",
       "      <th>2001-12-31 23:00:00</th>\n",
       "      <td>-4.320089</td>\n",
       "      <td>-2.389526</td>\n",
       "      <td>0.780048</td>\n",
       "      <td>0.619623</td>\n",
       "      <td>-1.728864</td>\n",
       "      <td>-0.960055</td>\n",
       "    </tr>\n",
       "  </tbody>\n",
       "</table>\n",
       "</div>"
      ],
      "text/plain": [
       "                      east_mu  north_mu  dir_sigma  spd_sigma      east  \\\n",
       "2001-12-31 19:00:00 -4.390532 -2.846285   0.769515   0.635914 -2.441632   \n",
       "2001-12-31 20:00:00 -4.424139 -2.493014   0.842880   0.657649 -1.173954   \n",
       "2001-12-31 21:00:00 -4.435504 -2.265253   0.880515   0.655579 -1.197067   \n",
       "2001-12-31 22:00:00 -4.388471 -2.235818   0.837030   0.633267 -2.431219   \n",
       "2001-12-31 23:00:00 -4.320089 -2.389526   0.780048   0.619623 -1.728864   \n",
       "\n",
       "                        north  \n",
       "2001-12-31 19:00:00  1.325013  \n",
       "2001-12-31 20:00:00  1.694752  \n",
       "2001-12-31 21:00:00  1.362495  \n",
       "2001-12-31 22:00:00 -0.188666  \n",
       "2001-12-31 23:00:00 -0.960055  "
      ]
     },
     "execution_count": 312,
     "metadata": {},
     "output_type": "execute_result"
    }
   ],
   "source": [
    "resid_prev = np.array([0, 0])\n",
    "resids = []\n",
    "for nds, t6, mu in zip(sigmas, T6_gen, df_new[['east_mu', 'north_mu']].values):\n",
    "    t6 = np.array([t6])\n",
    "    linear = np.array([resid_prev])\n",
    "    x_resid = np.hstack([linear, interaction(linear, t6)])\n",
    "    pred_resid = reg_resid.predict(x_resid)[0]\n",
    "    pred_vec = mu + pred_resid\n",
    "    pred_angle = np.arctan2(*pred_vec)\n",
    "    nen = rotate_clockwise(nds[0], nds[1], pred_angle)[0]\n",
    "    resid = pred_resid + nen\n",
    "    resids.append(resid)\n",
    "    resid_prev = resid\n",
    "resids = np.array(resids)\n",
    "df_new.loc[:, ['east', 'north']] = df_new[['east_mu', 'north_mu']].values + resids\n",
    "df_new.tail()"
   ]
  },
  {
   "cell_type": "code",
   "execution_count": 313,
   "id": "b81e7a21",
   "metadata": {},
   "outputs": [
    {
     "data": {
      "text/html": [
       "<div>\n",
       "<style scoped>\n",
       "    .dataframe tbody tr th:only-of-type {\n",
       "        vertical-align: middle;\n",
       "    }\n",
       "\n",
       "    .dataframe tbody tr th {\n",
       "        vertical-align: top;\n",
       "    }\n",
       "\n",
       "    .dataframe thead th {\n",
       "        text-align: right;\n",
       "    }\n",
       "</style>\n",
       "<table border=\"1\" class=\"dataframe\">\n",
       "  <thead>\n",
       "    <tr style=\"text-align: right;\">\n",
       "      <th></th>\n",
       "      <th>east_mu</th>\n",
       "      <th>north_mu</th>\n",
       "      <th>dir_sigma</th>\n",
       "      <th>spd_sigma</th>\n",
       "      <th>east</th>\n",
       "      <th>north</th>\n",
       "      <th>Wind_Spd</th>\n",
       "      <th>Wind_Dir</th>\n",
       "    </tr>\n",
       "  </thead>\n",
       "  <tbody>\n",
       "    <tr>\n",
       "      <th>2001-12-31 19:00:00</th>\n",
       "      <td>-4.390532</td>\n",
       "      <td>-2.846285</td>\n",
       "      <td>0.769515</td>\n",
       "      <td>0.635914</td>\n",
       "      <td>-2.441632</td>\n",
       "      <td>1.325013</td>\n",
       "      <td>2.777989</td>\n",
       "      <td>298.487597</td>\n",
       "    </tr>\n",
       "    <tr>\n",
       "      <th>2001-12-31 20:00:00</th>\n",
       "      <td>-4.424139</td>\n",
       "      <td>-2.493014</td>\n",
       "      <td>0.842880</td>\n",
       "      <td>0.657649</td>\n",
       "      <td>-1.173954</td>\n",
       "      <td>1.694752</td>\n",
       "      <td>2.061638</td>\n",
       "      <td>325.289674</td>\n",
       "    </tr>\n",
       "    <tr>\n",
       "      <th>2001-12-31 21:00:00</th>\n",
       "      <td>-4.435504</td>\n",
       "      <td>-2.265253</td>\n",
       "      <td>0.880515</td>\n",
       "      <td>0.655579</td>\n",
       "      <td>-1.197067</td>\n",
       "      <td>1.362495</td>\n",
       "      <td>1.813659</td>\n",
       "      <td>318.697966</td>\n",
       "    </tr>\n",
       "    <tr>\n",
       "      <th>2001-12-31 22:00:00</th>\n",
       "      <td>-4.388471</td>\n",
       "      <td>-2.235818</td>\n",
       "      <td>0.837030</td>\n",
       "      <td>0.633267</td>\n",
       "      <td>-2.431219</td>\n",
       "      <td>-0.188666</td>\n",
       "      <td>2.438528</td>\n",
       "      <td>265.562665</td>\n",
       "    </tr>\n",
       "    <tr>\n",
       "      <th>2001-12-31 23:00:00</th>\n",
       "      <td>-4.320089</td>\n",
       "      <td>-2.389526</td>\n",
       "      <td>0.780048</td>\n",
       "      <td>0.619623</td>\n",
       "      <td>-1.728864</td>\n",
       "      <td>-0.960055</td>\n",
       "      <td>1.977543</td>\n",
       "      <td>240.956169</td>\n",
       "    </tr>\n",
       "  </tbody>\n",
       "</table>\n",
       "</div>"
      ],
      "text/plain": [
       "                      east_mu  north_mu  dir_sigma  spd_sigma      east  \\\n",
       "2001-12-31 19:00:00 -4.390532 -2.846285   0.769515   0.635914 -2.441632   \n",
       "2001-12-31 20:00:00 -4.424139 -2.493014   0.842880   0.657649 -1.173954   \n",
       "2001-12-31 21:00:00 -4.435504 -2.265253   0.880515   0.655579 -1.197067   \n",
       "2001-12-31 22:00:00 -4.388471 -2.235818   0.837030   0.633267 -2.431219   \n",
       "2001-12-31 23:00:00 -4.320089 -2.389526   0.780048   0.619623 -1.728864   \n",
       "\n",
       "                        north  Wind_Spd    Wind_Dir  \n",
       "2001-12-31 19:00:00  1.325013  2.777989  298.487597  \n",
       "2001-12-31 20:00:00  1.694752  2.061638  325.289674  \n",
       "2001-12-31 21:00:00  1.362495  1.813659  318.697966  \n",
       "2001-12-31 22:00:00 -0.188666  2.438528  265.562665  \n",
       "2001-12-31 23:00:00 -0.960055  1.977543  240.956169  "
      ]
     },
     "execution_count": 313,
     "metadata": {},
     "output_type": "execute_result"
    }
   ],
   "source": [
    "df_new['Wind_Spd'] = np.sqrt(df_new.east**2 + df_new.north**2)\n",
    "df_new['Wind_Dir'] = ((np.arctan2(df_new.east, df_new.north)/np.pi) % 2)*180\n",
    "df_new.tail()"
   ]
  },
  {
   "cell_type": "code",
   "execution_count": 314,
   "id": "2286e876",
   "metadata": {},
   "outputs": [
    {
     "data": {
      "text/html": [
       "<div>\n",
       "<style scoped>\n",
       "    .dataframe tbody tr th:only-of-type {\n",
       "        vertical-align: middle;\n",
       "    }\n",
       "\n",
       "    .dataframe tbody tr th {\n",
       "        vertical-align: top;\n",
       "    }\n",
       "\n",
       "    .dataframe thead th {\n",
       "        text-align: right;\n",
       "    }\n",
       "</style>\n",
       "<table border=\"1\" class=\"dataframe\">\n",
       "  <thead>\n",
       "    <tr style=\"text-align: right;\">\n",
       "      <th></th>\n",
       "      <th>east_mu</th>\n",
       "      <th>north_mu</th>\n",
       "      <th>dir_sigma</th>\n",
       "      <th>spd_sigma</th>\n",
       "      <th>east</th>\n",
       "      <th>north</th>\n",
       "      <th>Wind_Spd</th>\n",
       "      <th>Wind_Dir</th>\n",
       "    </tr>\n",
       "  </thead>\n",
       "  <tbody>\n",
       "    <tr>\n",
       "      <th>count</th>\n",
       "      <td>8760.000000</td>\n",
       "      <td>8760.000000</td>\n",
       "      <td>8760.000000</td>\n",
       "      <td>8760.000000</td>\n",
       "      <td>8760.000000</td>\n",
       "      <td>8760.000000</td>\n",
       "      <td>8760.000000</td>\n",
       "      <td>8760.000000</td>\n",
       "    </tr>\n",
       "    <tr>\n",
       "      <th>mean</th>\n",
       "      <td>-2.367809</td>\n",
       "      <td>-1.913876</td>\n",
       "      <td>0.855267</td>\n",
       "      <td>0.702668</td>\n",
       "      <td>-2.505136</td>\n",
       "      <td>-1.740731</td>\n",
       "      <td>6.393411</td>\n",
       "      <td>209.207698</td>\n",
       "    </tr>\n",
       "    <tr>\n",
       "      <th>std</th>\n",
       "      <td>1.408243</td>\n",
       "      <td>1.288643</td>\n",
       "      <td>0.138641</td>\n",
       "      <td>0.129335</td>\n",
       "      <td>4.430272</td>\n",
       "      <td>4.790178</td>\n",
       "      <td>3.316573</td>\n",
       "      <td>85.667674</td>\n",
       "    </tr>\n",
       "    <tr>\n",
       "      <th>min</th>\n",
       "      <td>-4.747704</td>\n",
       "      <td>-3.810483</td>\n",
       "      <td>0.589451</td>\n",
       "      <td>0.476086</td>\n",
       "      <td>-19.361529</td>\n",
       "      <td>-16.775817</td>\n",
       "      <td>0.074281</td>\n",
       "      <td>0.220766</td>\n",
       "    </tr>\n",
       "    <tr>\n",
       "      <th>25%</th>\n",
       "      <td>-3.733409</td>\n",
       "      <td>-2.972954</td>\n",
       "      <td>0.761262</td>\n",
       "      <td>0.605000</td>\n",
       "      <td>-5.730900</td>\n",
       "      <td>-4.933478</td>\n",
       "      <td>3.870809</td>\n",
       "      <td>162.100390</td>\n",
       "    </tr>\n",
       "    <tr>\n",
       "      <th>50%</th>\n",
       "      <td>-2.245267</td>\n",
       "      <td>-2.373774</td>\n",
       "      <td>0.818153</td>\n",
       "      <td>0.666555</td>\n",
       "      <td>-2.682848</td>\n",
       "      <td>-1.513569</td>\n",
       "      <td>6.025516</td>\n",
       "      <td>223.265107</td>\n",
       "    </tr>\n",
       "    <tr>\n",
       "      <th>75%</th>\n",
       "      <td>-1.412859</td>\n",
       "      <td>-0.757939</td>\n",
       "      <td>0.915491</td>\n",
       "      <td>0.766965</td>\n",
       "      <td>0.737251</td>\n",
       "      <td>1.489740</td>\n",
       "      <td>8.566602</td>\n",
       "      <td>270.504092</td>\n",
       "    </tr>\n",
       "    <tr>\n",
       "      <th>max</th>\n",
       "      <td>1.616367</td>\n",
       "      <td>1.202778</td>\n",
       "      <td>1.255936</td>\n",
       "      <td>1.142145</td>\n",
       "      <td>14.215064</td>\n",
       "      <td>13.317143</td>\n",
       "      <td>21.184611</td>\n",
       "      <td>359.981063</td>\n",
       "    </tr>\n",
       "  </tbody>\n",
       "</table>\n",
       "</div>"
      ],
      "text/plain": [
       "           east_mu     north_mu    dir_sigma    spd_sigma         east  \\\n",
       "count  8760.000000  8760.000000  8760.000000  8760.000000  8760.000000   \n",
       "mean     -2.367809    -1.913876     0.855267     0.702668    -2.505136   \n",
       "std       1.408243     1.288643     0.138641     0.129335     4.430272   \n",
       "min      -4.747704    -3.810483     0.589451     0.476086   -19.361529   \n",
       "25%      -3.733409    -2.972954     0.761262     0.605000    -5.730900   \n",
       "50%      -2.245267    -2.373774     0.818153     0.666555    -2.682848   \n",
       "75%      -1.412859    -0.757939     0.915491     0.766965     0.737251   \n",
       "max       1.616367     1.202778     1.255936     1.142145    14.215064   \n",
       "\n",
       "             north     Wind_Spd     Wind_Dir  \n",
       "count  8760.000000  8760.000000  8760.000000  \n",
       "mean     -1.740731     6.393411   209.207698  \n",
       "std       4.790178     3.316573    85.667674  \n",
       "min     -16.775817     0.074281     0.220766  \n",
       "25%      -4.933478     3.870809   162.100390  \n",
       "50%      -1.513569     6.025516   223.265107  \n",
       "75%       1.489740     8.566602   270.504092  \n",
       "max      13.317143    21.184611   359.981063  "
      ]
     },
     "execution_count": 314,
     "metadata": {},
     "output_type": "execute_result"
    }
   ],
   "source": [
    "df_new.describe()"
   ]
  },
  {
   "cell_type": "code",
   "execution_count": 315,
   "id": "99f0afec",
   "metadata": {},
   "outputs": [
    {
     "data": {
      "text/html": [
       "<div>\n",
       "<style scoped>\n",
       "    .dataframe tbody tr th:only-of-type {\n",
       "        vertical-align: middle;\n",
       "    }\n",
       "\n",
       "    .dataframe tbody tr th {\n",
       "        vertical-align: top;\n",
       "    }\n",
       "\n",
       "    .dataframe thead th {\n",
       "        text-align: right;\n",
       "    }\n",
       "</style>\n",
       "<table border=\"1\" class=\"dataframe\">\n",
       "  <thead>\n",
       "    <tr style=\"text-align: right;\">\n",
       "      <th></th>\n",
       "      <th>Wind_Spd</th>\n",
       "      <th>Wind_Dir</th>\n",
       "      <th>east</th>\n",
       "      <th>north</th>\n",
       "      <th>east_mu</th>\n",
       "      <th>north_mu</th>\n",
       "      <th>east_resid</th>\n",
       "      <th>north_resid</th>\n",
       "      <th>east_resid_prev</th>\n",
       "      <th>north_resid_prev</th>\n",
       "      <th>east_pred</th>\n",
       "      <th>north_pred</th>\n",
       "      <th>east_error</th>\n",
       "      <th>north_error</th>\n",
       "      <th>sq_error</th>\n",
       "      <th>pred_angle</th>\n",
       "      <th>dir_error2</th>\n",
       "      <th>spd_error2</th>\n",
       "    </tr>\n",
       "  </thead>\n",
       "  <tbody>\n",
       "    <tr>\n",
       "      <th>count</th>\n",
       "      <td>156002.000000</td>\n",
       "      <td>156002.000000</td>\n",
       "      <td>156002.000000</td>\n",
       "      <td>156002.000000</td>\n",
       "      <td>156002.000000</td>\n",
       "      <td>156002.000000</td>\n",
       "      <td>156002.000000</td>\n",
       "      <td>156002.000000</td>\n",
       "      <td>156002.000000</td>\n",
       "      <td>156002.000000</td>\n",
       "      <td>156002.000000</td>\n",
       "      <td>156002.000000</td>\n",
       "      <td>156002.000000</td>\n",
       "      <td>156002.000000</td>\n",
       "      <td>156002.000000</td>\n",
       "      <td>156002.000000</td>\n",
       "      <td>1.560020e+05</td>\n",
       "      <td>1.560020e+05</td>\n",
       "    </tr>\n",
       "    <tr>\n",
       "      <th>mean</th>\n",
       "      <td>6.408618</td>\n",
       "      <td>207.420931</td>\n",
       "      <td>-2.361158</td>\n",
       "      <td>-1.910784</td>\n",
       "      <td>-2.362769</td>\n",
       "      <td>-1.908187</td>\n",
       "      <td>0.001611</td>\n",
       "      <td>-0.002597</td>\n",
       "      <td>-0.001566</td>\n",
       "      <td>0.002386</td>\n",
       "      <td>-2.364125</td>\n",
       "      <td>-1.905789</td>\n",
       "      <td>0.002967</td>\n",
       "      <td>-0.004995</td>\n",
       "      <td>1.264965</td>\n",
       "      <td>-0.683339</td>\n",
       "      <td>7.514947e-01</td>\n",
       "      <td>5.134704e-01</td>\n",
       "    </tr>\n",
       "    <tr>\n",
       "      <th>std</th>\n",
       "      <td>3.239643</td>\n",
       "      <td>85.392235</td>\n",
       "      <td>4.617209</td>\n",
       "      <td>4.584876</td>\n",
       "      <td>1.407192</td>\n",
       "      <td>1.295185</td>\n",
       "      <td>4.397015</td>\n",
       "      <td>4.397635</td>\n",
       "      <td>4.394916</td>\n",
       "      <td>4.394809</td>\n",
       "      <td>4.549168</td>\n",
       "      <td>4.511542</td>\n",
       "      <td>0.782363</td>\n",
       "      <td>0.807989</td>\n",
       "      <td>3.779860</td>\n",
       "      <td>1.877217</td>\n",
       "      <td>2.699775e+00</td>\n",
       "      <td>1.741450e+00</td>\n",
       "    </tr>\n",
       "    <tr>\n",
       "      <th>min</th>\n",
       "      <td>0.020000</td>\n",
       "      <td>0.000000</td>\n",
       "      <td>-21.703777</td>\n",
       "      <td>-18.328828</td>\n",
       "      <td>-4.747917</td>\n",
       "      <td>-3.810583</td>\n",
       "      <td>-19.395228</td>\n",
       "      <td>-15.628318</td>\n",
       "      <td>-19.395228</td>\n",
       "      <td>-15.628318</td>\n",
       "      <td>-21.895025</td>\n",
       "      <td>-18.493627</td>\n",
       "      <td>-14.848799</td>\n",
       "      <td>-7.652496</td>\n",
       "      <td>0.000006</td>\n",
       "      <td>-3.141576</td>\n",
       "      <td>7.731872e-12</td>\n",
       "      <td>2.811257e-12</td>\n",
       "    </tr>\n",
       "    <tr>\n",
       "      <th>25%</th>\n",
       "      <td>3.890000</td>\n",
       "      <td>158.000000</td>\n",
       "      <td>-5.779117</td>\n",
       "      <td>-5.143804</td>\n",
       "      <td>-3.717164</td>\n",
       "      <td>-2.982041</td>\n",
       "      <td>-3.169016</td>\n",
       "      <td>-3.100729</td>\n",
       "      <td>-3.171389</td>\n",
       "      <td>-3.093867</td>\n",
       "      <td>-5.727970</td>\n",
       "      <td>-5.020795</td>\n",
       "      <td>-0.371133</td>\n",
       "      <td>-0.452538</td>\n",
       "      <td>0.182072</td>\n",
       "      <td>-2.180529</td>\n",
       "      <td>4.068521e-02</td>\n",
       "      <td>2.853692e-02</td>\n",
       "    </tr>\n",
       "    <tr>\n",
       "      <th>50%</th>\n",
       "      <td>6.110000</td>\n",
       "      <td>225.000000</td>\n",
       "      <td>-2.491403</td>\n",
       "      <td>-1.696551</td>\n",
       "      <td>-2.235949</td>\n",
       "      <td>-2.356590</td>\n",
       "      <td>-0.085658</td>\n",
       "      <td>0.022116</td>\n",
       "      <td>-0.099882</td>\n",
       "      <td>0.024670</td>\n",
       "      <td>-2.458300</td>\n",
       "      <td>-1.678145</td>\n",
       "      <td>0.024911</td>\n",
       "      <td>-0.052668</td>\n",
       "      <td>0.486667</td>\n",
       "      <td>-1.349735</td>\n",
       "      <td>1.887874e-01</td>\n",
       "      <td>1.350254e-01</td>\n",
       "    </tr>\n",
       "    <tr>\n",
       "      <th>75%</th>\n",
       "      <td>8.660000</td>\n",
       "      <td>266.000000</td>\n",
       "      <td>1.002835</td>\n",
       "      <td>1.393008</td>\n",
       "      <td>-1.412044</td>\n",
       "      <td>-0.764347</td>\n",
       "      <td>3.199688</td>\n",
       "      <td>3.028365</td>\n",
       "      <td>3.191148</td>\n",
       "      <td>3.029724</td>\n",
       "      <td>0.930383</td>\n",
       "      <td>1.312226</td>\n",
       "      <td>0.405746</td>\n",
       "      <td>0.372320</td>\n",
       "      <td>1.188203</td>\n",
       "      <td>0.869800</td>\n",
       "      <td>6.179558e-01</td>\n",
       "      <td>4.512779e-01</td>\n",
       "    </tr>\n",
       "    <tr>\n",
       "      <th>max</th>\n",
       "      <td>22.760000</td>\n",
       "      <td>360.000000</td>\n",
       "      <td>14.311519</td>\n",
       "      <td>15.392165</td>\n",
       "      <td>1.616399</td>\n",
       "      <td>1.202778</td>\n",
       "      <td>16.843645</td>\n",
       "      <td>18.451846</td>\n",
       "      <td>16.843645</td>\n",
       "      <td>18.451846</td>\n",
       "      <td>14.105627</td>\n",
       "      <td>15.865782</td>\n",
       "      <td>11.430249</td>\n",
       "      <td>12.856150</td>\n",
       "      <td>283.640163</td>\n",
       "      <td>3.141562</td>\n",
       "      <td>2.087110e+02</td>\n",
       "      <td>1.433710e+02</td>\n",
       "    </tr>\n",
       "  </tbody>\n",
       "</table>\n",
       "</div>"
      ],
      "text/plain": [
       "            Wind_Spd       Wind_Dir           east          north  \\\n",
       "count  156002.000000  156002.000000  156002.000000  156002.000000   \n",
       "mean        6.408618     207.420931      -2.361158      -1.910784   \n",
       "std         3.239643      85.392235       4.617209       4.584876   \n",
       "min         0.020000       0.000000     -21.703777     -18.328828   \n",
       "25%         3.890000     158.000000      -5.779117      -5.143804   \n",
       "50%         6.110000     225.000000      -2.491403      -1.696551   \n",
       "75%         8.660000     266.000000       1.002835       1.393008   \n",
       "max        22.760000     360.000000      14.311519      15.392165   \n",
       "\n",
       "             east_mu       north_mu     east_resid    north_resid  \\\n",
       "count  156002.000000  156002.000000  156002.000000  156002.000000   \n",
       "mean       -2.362769      -1.908187       0.001611      -0.002597   \n",
       "std         1.407192       1.295185       4.397015       4.397635   \n",
       "min        -4.747917      -3.810583     -19.395228     -15.628318   \n",
       "25%        -3.717164      -2.982041      -3.169016      -3.100729   \n",
       "50%        -2.235949      -2.356590      -0.085658       0.022116   \n",
       "75%        -1.412044      -0.764347       3.199688       3.028365   \n",
       "max         1.616399       1.202778      16.843645      18.451846   \n",
       "\n",
       "       east_resid_prev  north_resid_prev      east_pred     north_pred  \\\n",
       "count    156002.000000     156002.000000  156002.000000  156002.000000   \n",
       "mean         -0.001566          0.002386      -2.364125      -1.905789   \n",
       "std           4.394916          4.394809       4.549168       4.511542   \n",
       "min         -19.395228        -15.628318     -21.895025     -18.493627   \n",
       "25%          -3.171389         -3.093867      -5.727970      -5.020795   \n",
       "50%          -0.099882          0.024670      -2.458300      -1.678145   \n",
       "75%           3.191148          3.029724       0.930383       1.312226   \n",
       "max          16.843645         18.451846      14.105627      15.865782   \n",
       "\n",
       "          east_error    north_error       sq_error     pred_angle  \\\n",
       "count  156002.000000  156002.000000  156002.000000  156002.000000   \n",
       "mean        0.002967      -0.004995       1.264965      -0.683339   \n",
       "std         0.782363       0.807989       3.779860       1.877217   \n",
       "min       -14.848799      -7.652496       0.000006      -3.141576   \n",
       "25%        -0.371133      -0.452538       0.182072      -2.180529   \n",
       "50%         0.024911      -0.052668       0.486667      -1.349735   \n",
       "75%         0.405746       0.372320       1.188203       0.869800   \n",
       "max        11.430249      12.856150     283.640163       3.141562   \n",
       "\n",
       "         dir_error2    spd_error2  \n",
       "count  1.560020e+05  1.560020e+05  \n",
       "mean   7.514947e-01  5.134704e-01  \n",
       "std    2.699775e+00  1.741450e+00  \n",
       "min    7.731872e-12  2.811257e-12  \n",
       "25%    4.068521e-02  2.853692e-02  \n",
       "50%    1.887874e-01  1.350254e-01  \n",
       "75%    6.179558e-01  4.512779e-01  \n",
       "max    2.087110e+02  1.433710e+02  "
      ]
     },
     "execution_count": 315,
     "metadata": {},
     "output_type": "execute_result"
    }
   ],
   "source": [
    "df1.describe()"
   ]
  },
  {
   "cell_type": "code",
   "execution_count": 316,
   "id": "c0ff66fc",
   "metadata": {},
   "outputs": [
    {
     "data": {
      "text/plain": [
       "<AxesSubplot:ylabel='Frequency'>"
      ]
     },
     "execution_count": 316,
     "metadata": {},
     "output_type": "execute_result"
    },
    {
     "data": {
      "image/png": "[encoded data removed]",
      "text/plain": [
       "<Figure size 432x288 with 1 Axes>"
      ]
     },
     "metadata": {
      "needs_background": "light"
     },
     "output_type": "display_data"
    }
   ],
   "source": [
    "df_new.Wind_Spd.plot(kind='hist')"
   ]
  },
  {
   "cell_type": "code",
   "execution_count": 317,
   "id": "2658d9a9",
   "metadata": {},
   "outputs": [
    {
     "data": {
      "text/plain": [
       "<AxesSubplot:ylabel='Frequency'>"
      ]
     },
     "execution_count": 317,
     "metadata": {},
     "output_type": "execute_result"
    },
    {
     "data": {
      "image/png": "[encoded data removed]",
      "text/plain": [
       "<Figure size 432x288 with 1 Axes>"
      ]
     },
     "metadata": {
      "needs_background": "light"
     },
     "output_type": "display_data"
    }
   ],
   "source": [
    "df1.Wind_Spd.plot(kind='hist')"
   ]
  },
  {
   "cell_type": "code",
   "execution_count": 318,
   "id": "82f6f304",
   "metadata": {},
   "outputs": [
    {
     "data": {
      "text/plain": [
       "<AxesSubplot:ylabel='Frequency'>"
      ]
     },
     "execution_count": 318,
     "metadata": {},
     "output_type": "execute_result"
    },
    {
     "data": {
      "image/png": "[encoded data removed]",
      "text/plain": [
       "<Figure size 432x288 with 1 Axes>"
      ]
     },
     "metadata": {
      "needs_background": "light"
     },
     "output_type": "display_data"
    }
   ],
   "source": [
    "df_new.Wind_Dir.plot(kind='hist')"
   ]
  },
  {
   "cell_type": "code",
   "execution_count": 319,
   "id": "177e9837",
   "metadata": {},
   "outputs": [
    {
     "data": {
      "text/plain": [
       "<AxesSubplot:ylabel='Frequency'>"
      ]
     },
     "execution_count": 319,
     "metadata": {},
     "output_type": "execute_result"
    },
    {
     "data": {
      "image/png": "[encoded data removed]",
      "text/plain": [
       "<Figure size 432x288 with 1 Axes>"
      ]
     },
     "metadata": {
      "needs_background": "light"
     },
     "output_type": "display_data"
    }
   ],
   "source": [
    "df_new.loc[df_new.index.month==7, 'Wind_Dir'].plot(kind='hist')"
   ]
  },
  {
   "cell_type": "code",
   "execution_count": 320,
   "id": "4a9aa67a",
   "metadata": {},
   "outputs": [
    {
     "data": {
      "text/plain": [
       "<AxesSubplot:ylabel='Frequency'>"
      ]
     },
     "execution_count": 320,
     "metadata": {},
     "output_type": "execute_result"
    },
    {
     "data": {
      "image/png": "[encoded data removed]",
      "text/plain": [
       "<Figure size 432x288 with 1 Axes>"
      ]
     },
     "metadata": {
      "needs_background": "light"
     },
     "output_type": "display_data"
    }
   ],
   "source": [
    "df1.Wind_Dir.plot(kind='hist')"
   ]
  },
  {
   "cell_type": "code",
   "execution_count": 321,
   "id": "52179eb3",
   "metadata": {},
   "outputs": [
    {
     "data": {
      "text/plain": [
       "<AxesSubplot:ylabel='Frequency'>"
      ]
     },
     "execution_count": 321,
     "metadata": {},
     "output_type": "execute_result"
    },
    {
     "data": {
      "image/png": "[encoded data removed]",
      "text/plain": [
       "<Figure size 432x288 with 1 Axes>"
      ]
     },
     "metadata": {
      "needs_background": "light"
     },
     "output_type": "display_data"
    }
   ],
   "source": [
    "df1.loc[df1.index.month==7, 'Wind_Dir'].plot(kind='hist')"
   ]
  },
  {
   "cell_type": "code",
   "execution_count": 322,
   "id": "47b5d587",
   "metadata": {},
   "outputs": [
    {
     "data": {
      "text/plain": [
       "<AxesSubplot:>"
      ]
     },
     "execution_count": 322,
     "metadata": {},
     "output_type": "execute_result"
    },
    {
     "data": {
      "image/png": "[encoded data removed]",
      "text/plain": [
       "<Figure size 432x288 with 1 Axes>"
      ]
     },
     "metadata": {
      "needs_background": "light"
     },
     "output_type": "display_data"
    }
   ],
   "source": [
    "df_new.Wind_Spd.groupby(df_new.index.hour).mean().plot()"
   ]
  },
  {
   "cell_type": "code",
   "execution_count": 323,
   "id": "0d8624cc",
   "metadata": {},
   "outputs": [
    {
     "data": {
      "text/plain": [
       "<AxesSubplot:xlabel='Date_Time'>"
      ]
     },
     "execution_count": 323,
     "metadata": {},
     "output_type": "execute_result"
    },
    {
     "data": {
      "image/png": "[encoded data removed]",
      "text/plain": [
       "<Figure size 432x288 with 1 Axes>"
      ]
     },
     "metadata": {
      "needs_background": "light"
     },
     "output_type": "display_data"
    }
   ],
   "source": [
    "df.Wind_Spd.groupby(df.index.hour).mean().plot()"
   ]
  },
  {
   "cell_type": "code",
   "execution_count": 324,
   "id": "c6ee96d9",
   "metadata": {},
   "outputs": [
    {
     "data": {
      "text/plain": [
       "<AxesSubplot:>"
      ]
     },
     "execution_count": 324,
     "metadata": {},
     "output_type": "execute_result"
    },
    {
     "data": {
      "image/png": "[encoded data removed]",
      "text/plain": [
       "<Figure size 432x288 with 1 Axes>"
      ]
     },
     "metadata": {
      "needs_background": "light"
     },
     "output_type": "display_data"
    }
   ],
   "source": [
    "df_new.Wind_Spd.groupby(df_new.index.month).mean().plot()"
   ]
  },
  {
   "cell_type": "code",
   "execution_count": 325,
   "id": "11765e96",
   "metadata": {},
   "outputs": [
    {
     "data": {
      "text/plain": [
       "<AxesSubplot:xlabel='Date_Time'>"
      ]
     },
     "execution_count": 325,
     "metadata": {},
     "output_type": "execute_result"
    },
    {
     "data": {
      "image/png": "[encoded data removed]",
      "text/plain": [
       "<Figure size 432x288 with 1 Axes>"
      ]
     },
     "metadata": {
      "needs_background": "light"
     },
     "output_type": "display_data"
    }
   ],
   "source": [
    "df.Wind_Spd.groupby(df.index.month).mean().plot()"
   ]
  },
  {
   "cell_type": "code",
   "execution_count": 305,
   "id": "77d68c78",
   "metadata": {},
   "outputs": [
    {
     "data": {
      "text/plain": [
       "<AxesSubplot:xlabel='Date_Time'>"
      ]
     },
     "execution_count": 305,
     "metadata": {},
     "output_type": "execute_result"
    },
    {
     "data": {
      "image/png": "[encoded data removed]",
      "text/plain": [
       "<Figure size 432x288 with 1 Axes>"
      ]
     },
     "metadata": {
      "needs_background": "light"
     },
     "output_type": "display_data"
    }
   ],
   "source": [
    "df.resample('YS').mean()['Wind_Spd'].plot()"
   ]
  },
  {
   "cell_type": "code",
   "execution_count": 306,
   "id": "6dcb6725",
   "metadata": {},
   "outputs": [
    {
     "name": "stderr",
     "output_type": "stream",
     "text": [
      "c:\\users\\david.kyle\\appdata\\local\\programs\\python\\python39\\lib\\site-packages\\pandas\\plotting\\_matplotlib\\core.py:1399: UserWarning: Attempting to set identical left == right == 40.0 results in singular transformations; automatically expanding.\n",
      "  ax.set_xlim(left, right)\n"
     ]
    },
    {
     "data": {
      "text/plain": [
       "<AxesSubplot:>"
      ]
     },
     "execution_count": 306,
     "metadata": {},
     "output_type": "execute_result"
    },
    {
     "data": {
      "image/png": "[encoded data removed]",
      "text/plain": [
       "<Figure size 432x288 with 1 Axes>"
      ]
     },
     "metadata": {
      "needs_background": "light"
     },
     "output_type": "display_data"
    }
   ],
   "source": [
    "df_new.iloc[:-1,:].resample('YS').mean()['Wind_Spd'].plot()"
   ]
  },
  {
   "cell_type": "code",
   "execution_count": 307,
   "id": "c0ca4a3d",
   "metadata": {},
   "outputs": [
    {
     "data": {
      "text/plain": [
       "<AxesSubplot:xlabel='Date_Time'>"
      ]
     },
     "execution_count": 307,
     "metadata": {},
     "output_type": "execute_result"
    },
    {
     "data": {
      "image/png": "[encoded data removed]",
      "text/plain": [
       "<Figure size 432x288 with 1 Axes>"
      ]
     },
     "metadata": {
      "needs_background": "light"
     },
     "output_type": "display_data"
    }
   ],
   "source": [
    "df.resample('MS').mean()['Wind_Spd'].plot()"
   ]
  },
  {
   "cell_type": "code",
   "execution_count": 326,
   "id": "030556fb",
   "metadata": {},
   "outputs": [
    {
     "data": {
      "text/plain": [
       "<AxesSubplot:>"
      ]
     },
     "execution_count": 326,
     "metadata": {},
     "output_type": "execute_result"
    },
    {
     "data": {
      "image/png": "[encoded data removed]",
      "text/plain": [
       "<Figure size 432x288 with 1 Axes>"
      ]
     },
     "metadata": {
      "needs_background": "light"
     },
     "output_type": "display_data"
    }
   ],
   "source": [
    "df_new.resample('MS').mean()['Wind_Spd'].plot()"
   ]
  },
  {
   "cell_type": "code",
   "execution_count": 328,
   "id": "24653b49",
   "metadata": {},
   "outputs": [],
   "source": [
    "df_export = df_new[['Wind_Spd', 'Wind_Dir']].copy()\n",
    "# df_export = df_export.loc['2000-01-01 07:00:00':'2019-06-01 06:00:00']\n",
    "df_export['Wind_Dir'] = df_export['Wind_Dir'].map(lambda x: '%.0f' % x)\n",
    "df_export.index.name = 'Date_Time'\n",
    "df_export.to_csv('ERA_modeled_2001.txt', sep='\\t', float_format='%.3f')"
   ]
  },
  {
   "cell_type": "code",
   "execution_count": 329,
   "id": "ec96141f",
   "metadata": {},
   "outputs": [
    {
     "data": {
      "text/html": [
       "<div>\n",
       "<style scoped>\n",
       "    .dataframe tbody tr th:only-of-type {\n",
       "        vertical-align: middle;\n",
       "    }\n",
       "\n",
       "    .dataframe tbody tr th {\n",
       "        vertical-align: top;\n",
       "    }\n",
       "\n",
       "    .dataframe thead th {\n",
       "        text-align: right;\n",
       "    }\n",
       "</style>\n",
       "<table border=\"1\" class=\"dataframe\">\n",
       "  <thead>\n",
       "    <tr style=\"text-align: right;\">\n",
       "      <th></th>\n",
       "      <th>Wind_Spd</th>\n",
       "      <th>Wind_Dir</th>\n",
       "    </tr>\n",
       "    <tr>\n",
       "      <th>Date_Time</th>\n",
       "      <th></th>\n",
       "      <th></th>\n",
       "    </tr>\n",
       "  </thead>\n",
       "  <tbody>\n",
       "    <tr>\n",
       "      <th>2001-01-01 00:00:00</th>\n",
       "      <td>4.812381</td>\n",
       "      <td>236</td>\n",
       "    </tr>\n",
       "    <tr>\n",
       "      <th>2001-01-01 01:00:00</th>\n",
       "      <td>5.374148</td>\n",
       "      <td>235</td>\n",
       "    </tr>\n",
       "    <tr>\n",
       "      <th>2001-01-01 02:00:00</th>\n",
       "      <td>6.255794</td>\n",
       "      <td>232</td>\n",
       "    </tr>\n",
       "    <tr>\n",
       "      <th>2001-01-01 03:00:00</th>\n",
       "      <td>6.845308</td>\n",
       "      <td>230</td>\n",
       "    </tr>\n",
       "    <tr>\n",
       "      <th>2001-01-01 04:00:00</th>\n",
       "      <td>7.200541</td>\n",
       "      <td>236</td>\n",
       "    </tr>\n",
       "  </tbody>\n",
       "</table>\n",
       "</div>"
      ],
      "text/plain": [
       "                     Wind_Spd Wind_Dir\n",
       "Date_Time                             \n",
       "2001-01-01 00:00:00  4.812381      236\n",
       "2001-01-01 01:00:00  5.374148      235\n",
       "2001-01-01 02:00:00  6.255794      232\n",
       "2001-01-01 03:00:00  6.845308      230\n",
       "2001-01-01 04:00:00  7.200541      236"
      ]
     },
     "execution_count": 329,
     "metadata": {},
     "output_type": "execute_result"
    }
   ],
   "source": [
    "df_export.head()"
   ]
  },
  {
   "cell_type": "code",
   "execution_count": 327,
   "id": "b513032f",
   "metadata": {},
   "outputs": [],
   "source": [
    "df_orig_export = df.copy()\n",
    "df_orig_export['Wind_Dir'] = df_orig_export['Wind_Dir'].map(lambda x: '%.0f' % x)\n",
    "df_orig_export.loc['2001-01-01':'2001-12-31 23:00:00', ['Wind_Spd', 'Wind_Dir']].to_csv('ERA_original_2001.txt', sep='\\t', float_format='%.3f')"
   ]
  },
  {
   "cell_type": "code",
   "execution_count": 331,
   "id": "11788f7c",
   "metadata": {},
   "outputs": [
    {
     "data": {
      "text/html": [
       "<div>\n",
       "<style scoped>\n",
       "    .dataframe tbody tr th:only-of-type {\n",
       "        vertical-align: middle;\n",
       "    }\n",
       "\n",
       "    .dataframe tbody tr th {\n",
       "        vertical-align: top;\n",
       "    }\n",
       "\n",
       "    .dataframe thead th {\n",
       "        text-align: right;\n",
       "    }\n",
       "</style>\n",
       "<table border=\"1\" class=\"dataframe\">\n",
       "  <thead>\n",
       "    <tr style=\"text-align: right;\">\n",
       "      <th></th>\n",
       "      <th>Wind_Spd</th>\n",
       "      <th>Wind_Dir</th>\n",
       "    </tr>\n",
       "    <tr>\n",
       "      <th>Date_Time</th>\n",
       "      <th></th>\n",
       "      <th></th>\n",
       "    </tr>\n",
       "  </thead>\n",
       "  <tbody>\n",
       "    <tr>\n",
       "      <th>2001-01-01 00:00:00</th>\n",
       "      <td>6.92</td>\n",
       "      <td>194</td>\n",
       "    </tr>\n",
       "    <tr>\n",
       "      <th>2001-01-01 01:00:00</th>\n",
       "      <td>7.69</td>\n",
       "      <td>199</td>\n",
       "    </tr>\n",
       "    <tr>\n",
       "      <th>2001-01-01 02:00:00</th>\n",
       "      <td>8.17</td>\n",
       "      <td>201</td>\n",
       "    </tr>\n",
       "    <tr>\n",
       "      <th>2001-01-01 03:00:00</th>\n",
       "      <td>8.20</td>\n",
       "      <td>203</td>\n",
       "    </tr>\n",
       "    <tr>\n",
       "      <th>2001-01-01 04:00:00</th>\n",
       "      <td>8.17</td>\n",
       "      <td>205</td>\n",
       "    </tr>\n",
       "    <tr>\n",
       "      <th>...</th>\n",
       "      <td>...</td>\n",
       "      <td>...</td>\n",
       "    </tr>\n",
       "    <tr>\n",
       "      <th>2001-12-31 19:00:00</th>\n",
       "      <td>0.11</td>\n",
       "      <td>26</td>\n",
       "    </tr>\n",
       "    <tr>\n",
       "      <th>2001-12-31 20:00:00</th>\n",
       "      <td>0.09</td>\n",
       "      <td>5</td>\n",
       "    </tr>\n",
       "    <tr>\n",
       "      <th>2001-12-31 21:00:00</th>\n",
       "      <td>0.46</td>\n",
       "      <td>34</td>\n",
       "    </tr>\n",
       "    <tr>\n",
       "      <th>2001-12-31 22:00:00</th>\n",
       "      <td>1.15</td>\n",
       "      <td>48</td>\n",
       "    </tr>\n",
       "    <tr>\n",
       "      <th>2001-12-31 23:00:00</th>\n",
       "      <td>2.33</td>\n",
       "      <td>53</td>\n",
       "    </tr>\n",
       "  </tbody>\n",
       "</table>\n",
       "<p>8760 rows × 2 columns</p>\n",
       "</div>"
      ],
      "text/plain": [
       "                     Wind_Spd Wind_Dir\n",
       "Date_Time                             \n",
       "2001-01-01 00:00:00      6.92      194\n",
       "2001-01-01 01:00:00      7.69      199\n",
       "2001-01-01 02:00:00      8.17      201\n",
       "2001-01-01 03:00:00      8.20      203\n",
       "2001-01-01 04:00:00      8.17      205\n",
       "...                       ...      ...\n",
       "2001-12-31 19:00:00      0.11       26\n",
       "2001-12-31 20:00:00      0.09        5\n",
       "2001-12-31 21:00:00      0.46       34\n",
       "2001-12-31 22:00:00      1.15       48\n",
       "2001-12-31 23:00:00      2.33       53\n",
       "\n",
       "[8760 rows x 2 columns]"
      ]
     },
     "execution_count": 331,
     "metadata": {},
     "output_type": "execute_result"
    }
   ],
   "source": [
    "df_orig_export.loc['2001-01-01':'2001-12-31 23:00:00', ['Wind_Spd', 'Wind_Dir']]"
   ]
  },
  {
   "cell_type": "code",
   "execution_count": null,
   "id": "eef4ba7c",
   "metadata": {},
   "outputs": [],
   "source": []
  }
 ],
 "metadata": {
  "kernelspec": {
   "display_name": "Python 3 (ipykernel)",
   "language": "python",
   "name": "python3"
  },
  "language_info": {
   "codemirror_mode": {
    "name": "ipython",
    "version": 3
   },
   "file_extension": ".py",
   "mimetype": "text/x-python",
   "name": "python",
   "nbconvert_exporter": "python",
   "pygments_lexer": "ipython3",
   "version": "3.9.6"
  }
 },
 "nbformat": 4,
 "nbformat_minor": 5
}
